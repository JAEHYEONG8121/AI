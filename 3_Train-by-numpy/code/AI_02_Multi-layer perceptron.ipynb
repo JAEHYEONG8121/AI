{
 "cells": [
  {
   "cell_type": "markdown",
   "metadata": {},
   "source": [
    "### Training a neural network (multi-layer perceptron w/ 1 hidden layers)\n",
    "\n",
    "아래 코드는 다음 항목을 구현한다.\n",
    "1. Neural network 모델 정의 및 관련 연산\n",
    "3. Gradient descent 알고리즘 및 Neural network 모델의 parameter에 대한 gradient 연산\n",
    "4. 학습된 Neural network 모델 parameter를 적용하여 test data의 classification 결과 도출"
   ]
  },
  {
   "cell_type": "code",
   "execution_count": 14,
   "metadata": {},
   "outputs": [],
   "source": [
    "# package 불러오기\n",
    "import numpy as np\n",
    "import matplotlib.pyplot as plt\n",
    "import gzip\n",
    "import os\n",
    "\n",
    "# utility functions\n",
    "\n",
    "# function: make labels one-hot vectors\n",
    "def make_labels_onehot(labels, num_cls):\n",
    "    num_data = labels.shape[0]\n",
    "    labels_1hot = np.zeros((num_data,num_cls))\n",
    "    labels_1hot[np.arange(num_data),labels[:]] = 1\n",
    "    return labels_1hot\n",
    "\n",
    "# function: visualize sample images\n",
    "def VisualizeBatchData(batch_data, batch_sz):\n",
    "    f, axarr = plt.subplots(batch_sz)\n",
    "    ddim_sq = int(np.sqrt(batch_data[0].shape[0]))\n",
    "    # print(W_arr[0].shape[0])\n",
    "    for i in range(batch_sz):\n",
    "        axarr[i].imshow(batch_data[i][:].reshape(ddim_sq,ddim_sq),cmap='gray')\n",
    "    plt.show()\n",
    "\n",
    "# function: visualize neuron weight matrix for gradient descent\n",
    "def VisualizeWeights(W_arr, num_iter, num_cls):\n",
    "    f, axarr = plt.subplots(num_iter,num_cls)\n",
    "    ddim_sq = int(np.sqrt(W_arr[0].shape[0]))\n",
    "    # print(W_arr[0].shape[0])\n",
    "    for i in range(num_iter):\n",
    "        for j in range(num_cls):\n",
    "            axarr[i,j].imshow(W_arr[i][:,j].reshape(ddim_sq,ddim_sq),cmap='gray')\n",
    "    plt.show()"
   ]
  },
  {
   "cell_type": "markdown",
   "metadata": {},
   "source": [
    "##### 셀1: 데이터 불러오기\n",
    "\n",
    "MNIST 데이터셋은 CNN 구조 개발에 큰 공헌을 하면서 Deep learning 분야의 대가로 추앙받는 Yann LeCun 뉴욕대 교수님의 연구로 구축된 영상 데이터셋이다. \n",
    "구성 영상은 각각 28x28 크기를 가지며 0부터 9사이의 아라비아 숫자를 필기한 영상으로 각 숫자마다 동일한 수의 영상을 가진다.\n",
    "총 70000장의 영상 및 레이블들로 구성되며, 각각 60000장으로 구성된 학습 데이터셋과 10000장으로 구성된 테스트 데이터셋으로 나뉜다.\n",
    "\n",
    "data/MNIST 폴더에 해당 파일들이 이미 저장되어 있는 상태에서 다음 코드를 수행하면 MNIST 데이터셋을 로딩할 수 있다."
   ]
  },
  {
   "cell_type": "code",
   "execution_count": 15,
   "metadata": {},
   "outputs": [],
   "source": [
    "def load_mnist_data(data_dir):\n",
    "    train_images_path = os.path.join(data_dir, 'train-images-idx3-ubyte.gz')\n",
    "    train_labels_path = os.path.join(data_dir, 'train-labels-idx1-ubyte.gz')\n",
    "    test_images_path = os.path.join(data_dir, 't10k-images-idx3-ubyte.gz')\n",
    "    test_labels_path = os.path.join(data_dir, 't10k-labels-idx1-ubyte.gz')\n",
    "\n",
    "    with gzip.open(train_images_path, 'rb') as f:\n",
    "        train_images = np.frombuffer(f.read(), np.uint8, offset=16).reshape(-1, 28, 28)\n",
    "\n",
    "    with gzip.open(train_labels_path, 'rb') as f:\n",
    "        train_labels = np.frombuffer(f.read(), np.uint8, offset=8)\n",
    "\n",
    "    with gzip.open(test_images_path, 'rb') as f:\n",
    "        test_images = np.frombuffer(f.read(), np.uint8, offset=16).reshape(-1, 28, 28)\n",
    "\n",
    "    with gzip.open(test_labels_path, 'rb') as f:\n",
    "        test_labels = np.frombuffer(f.read(), np.uint8, offset=8)\n",
    "\n",
    "    return train_images, train_labels, test_images, test_labels\n",
    "\n",
    "# Specify the directory where the MNIST dataset files are located\n",
    "data_dir = 'data/MNIST/'  # Replace with the actual directory path\n",
    "\n",
    "# Load the MNIST dataset\n",
    "# The training and test data are now available in train_images, train_labels, test_images, and test_labels.\n",
    "train_images, train_labels, test_images, test_labels = load_mnist_data(data_dir)\n",
    "\n",
    "num_imgs_tr = train_images.shape[0]\n",
    "num_imgs_te = test_images.shape[0]\n",
    "img_sz = train_images.shape[1]\n",
    "num_cls = 10"
   ]
  },
  {
   "cell_type": "markdown",
   "metadata": {},
   "source": [
    "##### 셀2: 데이터 전처리\n",
    "\n",
    "아래 셀에서는 zero-centering 데이터 전처리를 수행한다."
   ]
  },
  {
   "cell_type": "code",
   "execution_count": 16,
   "metadata": {},
   "outputs": [
    {
     "data": {
      "image/png": "[encoded data removed]",
      "text/plain": [
       "<Figure size 640x480 with 10 Axes>"
      ]
     },
     "metadata": {},
     "output_type": "display_data"
    },
    {
     "name": "stdout",
     "output_type": "stream",
     "text": [
      "[5 0 4 1 9 2 1 3 1 4]\n",
      "(60000, 784)\n",
      "(10000, 784)\n"
     ]
    }
   ],
   "source": [
    "# visualize sample images and labels\n",
    "num_view = 10\n",
    "f, axarr = plt.subplots(1,num_view) \n",
    "for i in range(num_view):\n",
    "    axarr[i].imshow(train_images[i,:,:],cmap='gray')\n",
    "plt.show()\n",
    "print(train_labels[:num_view])\n",
    "\n",
    "# pre-process sample images\n",
    "# flatten each image to 1D vector - # 총영상개수x28x28 영상 배열을 총영상개수x28^2 배열로 규격 변경\n",
    "# **코딩 수행** training data 전처리 \n",
    "tr_data = train_images.reshape(num_imgs_tr, -1)\n",
    "print(tr_data.shape)\n",
    "\n",
    "# **코딩 수행** test data 전처리\n",
    "te_data = test_images.reshape(num_imgs_te, -1)\n",
    "print(te_data.shape)\n",
    "\n",
    "# subtract mean\n",
    "tr_mean = np.mean(tr_data)\n",
    "tr_data = tr_data - tr_mean\n",
    "te_data = te_data - tr_mean"
   ]
  },
  {
   "cell_type": "markdown",
   "metadata": {},
   "source": [
    "##### 문제3: Neural network 모델의 local gradient 연산 정의\n",
    "\n",
    "다음 코드는 1개의 hidden layer를 갖는 neural network의 객체를 정의하는 class의 코드이다."
   ]
  },
  {
   "cell_type": "code",
   "execution_count": 186,
   "metadata": {},
   "outputs": [],
   "source": [
    "class MLPNeuralNetwork:\n",
    "    def __init__(self, data_dim, num_hid_neurons, num_cls):\n",
    "        self.data_dim = data_dim\n",
    "        self.num_cls = num_cls\n",
    "        # data_dim <- D in slides, num_cls <- M in slides, num_hid_neurons <- 다양하게 설정하여 실험\n",
    "        self.W1 = 0.001 * np.random.randn(data_dim, num_hid_neurons)\n",
    "        self.W2 = 0.001 * np.random.randn(num_hid_neurons, num_cls)\n",
    "        self.b1 = np.random.randint(num_hid_neurons)\n",
    "        self.b2 = np.random.randint(num_cls)\n",
    "        self.scores = np.zeros(num_cls)\n",
    "        self.data = 0\n",
    "        self.num_data = 0\n",
    "    def forward(self, data):\n",
    "        self.data = data\n",
    "        \n",
    "        # 첫번째 hidden layer\n",
    "        z1 = np.dot(data, self.W1) + self.b1\n",
    "        a1 = np.maximum(0, z1)\n",
    "        self.hidden_layer_output = a1\n",
    "        \n",
    "        # Output layer\n",
    "        self.scores = np.dot(a1, self.W2) + self.b2\n",
    "    \n",
    "        return self.scores\n",
    "    def backward(self, upstream_grad, batch_sz):\n",
    "        # upstream_grad dimensions should be N x M\n",
    "        # W dimension is D x M\n",
    "        \n",
    "        # Output layer gradient 계산\n",
    "        grad_scores = upstream_grad\n",
    "        grad_W2 = np.dot(self.hidden_layer_output.T, grad_scores) / batch_sz\n",
    "        grad_b2 = np.sum(grad_scores, axis=0) / batch_sz\n",
    "        \n",
    "        # hidden layer 역전파 계산\n",
    "        grad_hidden = np.dot(grad_scores, self.W2.T)\n",
    "        grad_hidden[self.hidden_layer_output <= 0] = 0\n",
    "        grad_W1 = np.dot(self.data.T, grad_hidden) / batch_sz\n",
    "        grad_b1 = np.sum(grad_hidden, axis=0) / batch_sz\n",
    "        \n",
    "        # W dimension is 1 x M\n",
    "        \n",
    "        grad = {'W1':grad_W1, \n",
    "                'b1':grad_b1,\n",
    "                'W2':grad_W2, \n",
    "                'b2':grad_b2}\n",
    "        \n",
    "        return grad\n",
    "    def grad_descent(self, grad, lr):\n",
    "        grad_W1 = grad['W1']\n",
    "        grad_b1 = grad['b1']\n",
    "        self.W1 = self.W1 - lr*grad_W1\n",
    "        self.b1 = self.b1 - lr*grad_b1\n",
    "        grad_W2 = grad['W2']\n",
    "        grad_b2 = grad['b2']\n",
    "        self.W2 = self.W2 - lr*grad_W2\n",
    "        self.b2 = self.b2 - lr*grad_b2\n",
    "    def visualize_weights(self):\n",
    "        f, axarr = plt.subplots(self.num_cls)\n",
    "        ddim_sq = int(np.sqrt(self.W1.shape[0]))\n",
    "        for j in range(self.num_cls):\n",
    "            axarr[j].imshow(self.W1[:,j].reshape(ddim_sq,ddim_sq),cmap='gray')\n",
    "    plt.show()\n"
   ]
  },
  {
   "cell_type": "markdown",
   "metadata": {},
   "source": [
    "##### 문제4: Softmax loss 함수의 local gradient 연산 정의\n",
    "\n",
    "다음 코드는 Softmax 함수 기반의 cross-entropy loss 함수와 이를 기준으로 모델을 학습하는데 필요한 gradient를 계산하는 과정을 포함한다."
   ]
  },
  {
   "cell_type": "code",
   "execution_count": 54,
   "metadata": {},
   "outputs": [],
   "source": [
    "class SoftMaxLoss:\n",
    "    def __init__(self, model, num_cls):\n",
    "        # set model object\n",
    "        self.model = model\n",
    "        self.model_scores = 0\n",
    "        self.softmax_probs = 0\n",
    "        self.loss = 0\n",
    "        self.labels = 0\n",
    "        self.data = 0\n",
    "        self.probs = 0\n",
    "        self.num_cls = num_cls\n",
    "    def compute_probs(self, data):\n",
    "        scores = self.model.forward(data)\n",
    "        self.model_scores = scores\n",
    "        # compute softmax function\n",
    "        exp_scores = np.exp(scores - np.max(scores, axis=1, keepdims=True))\n",
    "        softmax_probs = exp_scores / np.sum(exp_scores, axis=1, keepdims=True)\n",
    "        self.probs = softmax_probs\n",
    "        \n",
    "        return self.probs    \n",
    "    def compute_loss(self, data, labels):\n",
    "        self.data = data\n",
    "        self.compute_probs(data)\n",
    "        \n",
    "        num_samples = data.shape[0]\n",
    "        correct_class_prob = self.probs[np.arange(num_samples), labels]\n",
    "        loss = -np.log(correct_class_prob).sum() / num_samples\n",
    "        self.loss = loss\n",
    "        \n",
    "        return self.loss\n",
    "    def compute_grad(self, labels, batch_sz):\n",
    "        # score dimensions should be N x M\n",
    "        z = self.probs\n",
    "        # grad_z dimensions should also be N x M\n",
    "        grad_z = z - make_labels_onehot(self.labels,self.num_cls)\n",
    "    \n",
    "        return self.model.backward(grad_z, batch_sz)\n"
   ]
  },
  {
   "cell_type": "markdown",
   "metadata": {},
   "source": [
    "##### 문제5: Gradient descent 알고리즘 구현\n",
    "\n",
    "다음 코드는 gradient descent 알고리즘으로 학습 데이터에 대해 MLP neural network를 학습하는 코드이다."
   ]
  },
  {
   "cell_type": "code",
   "execution_count": 200,
   "metadata": {},
   "outputs": [
    {
     "data": {
      "image/png": "[encoded data removed]",
      "text/plain": [
       "<Figure size 640x480 with 10 Axes>"
      ]
     },
     "metadata": {},
     "output_type": "display_data"
    }
   ],
   "source": [
    "def get_mini_batch(batch_sz, db_data, db_labels, num_data):\n",
    "    num_samples = db_data.shape[0]\n",
    "    idxs = np.arange(num_samples)\n",
    "    np.random.shuffle(idxs)  # 데이터 인덱스를 무작위로 섞음\n",
    "\n",
    "    batch_data = db_data[idxs[:batch_sz]]  # 미니 배치 데이터 추출\n",
    "    batch_labels = db_labels[idxs[:batch_sz]]  # 미니 배치 레이블 추출\n",
    "\n",
    "    # VisualizeBatchData(batch_data,batch_sz)\n",
    "    return batch_data, batch_labels\n",
    "\n",
    "def train_mlp_neuralnet(db_data, db_labels, num_cls, lr, batch_sz, num_iter, num_hid_neurons):\n",
    "    # define & initialize MLP neural network classifier\n",
    "    num_data = db_data.shape[0]\n",
    "    data_dim = db_data.shape[1]\n",
    "    model = MLPNeuralNetwork(data_dim, num_hid_neurons, num_cls)\n",
    "    # define loss function\n",
    "    loss_fn = SoftMaxLoss(model,num_cls)\n",
    "    # iterative stochastic gradient descent\n",
    "    for i in range(num_iter):\n",
    "        # sample data mini-batch\n",
    "        batch_data, batch_labels = get_mini_batch(batch_sz, db_data, db_labels, num_data)\n",
    "        model.data = batch_data\n",
    "        loss_fn.labels = batch_labels\n",
    "        # compute loss value\n",
    "        loss = loss_fn.compute_loss(batch_data, batch_labels)\n",
    "        # print('loss=',loss)\n",
    "        # compute gradient (backpropagation)\n",
    "        grad = loss_fn.compute_grad(batch_labels, batch_sz)\n",
    "        # update model parameters using gradient\n",
    "        model.grad_descent(grad, lr)\n",
    "    model.visualize_weights()\n",
    "    return model\n",
    "\n",
    "lr = 2e-4\n",
    "batch_sz = 256\n",
    "num_iter = 2000\n",
    "num_hid_neurons = 128\n",
    "model = train_mlp_neuralnet(tr_data, train_labels, num_cls, lr, batch_sz, num_iter, num_hid_neurons)"
   ]
  },
  {
   "cell_type": "markdown",
   "metadata": {},
   "source": [
    "##### 문제6: 학습된 모델을 이용한 test data classification\n",
    "\n",
    "다음 코드에서는 학습된 MLP neural network를 이용하여 테스트 데이터의 판별 결과를 도출한다."
   ]
  },
  {
   "cell_type": "code",
   "execution_count": 201,
   "metadata": {},
   "outputs": [
    {
     "name": "stdout",
     "output_type": "stream",
     "text": [
      "Classification accuracy= 91.5%\n"
     ]
    }
   ],
   "source": [
    "te_scores = model.forward(te_data)\n",
    "# 판별 결과를 클래스로 변환 (가장 높은 점수를 갖는 클래스 선택)\n",
    "te_predictions = np.argmax(te_scores, axis=1)\n",
    "\n",
    "# 정확도 계산\n",
    "# 예측값과 실제 레이블이 일치하는 경우 True\n",
    "correct_predictions = (te_predictions == test_labels) \n",
    "# 정확한 예측의 비율 계산 \n",
    "Acc = np.mean(correct_predictions.astype(float))  \n",
    "\n",
    "print('Classification accuracy= {}%'.format(Acc*100))"
   ]
  }
 ],
 "metadata": {
  "kernelspec": {
   "display_name": "Machine Learning",
   "language": "python",
   "name": "conda"
  },
  "language_info": {
   "codemirror_mode": {
    "name": "ipython",
    "version": 3
   },
   "file_extension": ".py",
   "mimetype": "text/x-python",
   "name": "python",
   "nbconvert_exporter": "python",
   "pygments_lexer": "ipython3",
   "version": "3.10.5"
  },
  "orig_nbformat": 4
 },
 "nbformat": 4,
 "nbformat_minor": 2
}
