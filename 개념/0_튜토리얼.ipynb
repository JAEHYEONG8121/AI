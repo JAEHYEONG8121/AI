{
 "cells": [
  {
   "attachments": {},
   "cell_type": "markdown",
   "metadata": {},
   "source": [
    "##  Pytorch 튜토리얼\n",
    "> 인공신경망과 Pytorch를 살펴보자. NN을 위한 기본 빌딩 블록\n",
    "\n",
    "**1. Dataset & Dataloader**\n",
    "- 어떠한 데이터가 있고, 어떻게 가져와서 사용하는지"
   ]
  },
  {
   "cell_type": "code",
   "execution_count": 1,
   "metadata": {},
   "outputs": [],
   "source": [
    "import torch\n",
    "from torch.utils.data import Dataset\n",
    "from torchvision import datasets\n",
    "from torchvision.transforms import ToTensor\n",
    "import matplotlib.pyplot as plt"
   ]
  },
  {
   "cell_type": "code",
   "execution_count": 2,
   "metadata": {},
   "outputs": [],
   "source": [
    "traing_data = datasets.FashionMNIST(\n",
    "    root = 'data',\n",
    "    train=True,\n",
    "    download=True,\n",
    "    transform=ToTensor()\n",
    ")\n",
    "\n",
    "test_data = datasets.FashionMNIST(\n",
    "    root='data',\n",
    "    train=False,\n",
    "    download=True,\n",
    "    transform=ToTensor()\n",
    ")"
   ]
  },
  {
   "attachments": {},
   "cell_type": "markdown",
   "metadata": {},
   "source": [
    "**2.Iterating and Visualizing the Dataset**\n",
    "- 우리는 dataset을 리스트처럼 인덱싱할 수 있다! : ex) training_data[index]\n",
    "- 또한, matplotlib를 통해 시각화할 수 있다."
   ]
  },
  {
   "cell_type": "code",
   "execution_count": 4,
   "metadata": {},
   "outputs": [
    {
     "name": "stdout",
     "output_type": "stream",
     "text": [
      "1\n",
      "9\n",
      "7\n",
      "1\n",
      "6\n",
      "1\n",
      "2\n",
      "1\n",
      "6\n"
     ]
    },
    {
     "data": {
      "image/png": "[encoded data removed]",
      "text/plain": [
       "<Figure size 576x576 with 9 Axes>"
      ]
     },
     "metadata": {
      "needs_background": "light"
     },
     "output_type": "display_data"
    }
   ],
   "source": [
    "labels_map = {\n",
    "    0: \"T-Shirt\",\n",
    "    1: \"Trouser\",\n",
    "    2: \"Pullover\",\n",
    "    3: \"Dress\",\n",
    "    4: \"Coat\",\n",
    "    5: \"Sandal\",\n",
    "    6: \"Shirt\",\n",
    "    7: \"Sneaker\",\n",
    "    8: \"Bag\",\n",
    "    9: \"Ankle Boot\",\n",
    "}\n",
    "\n",
    "figure = plt.figure(figsize=(8, 8))\n",
    "cols, rows = 3, 3\n",
    "for i in range(1, cols*rows + 1) :\n",
    "    sample_idx = torch.randint(len(traing_data), size=(1,)).item()\n",
    "    #print(sample_idx)\n",
    "    img, label = traing_data[sample_idx]\n",
    "    print(label)\n",
    "    figure.add_subplot(rows, cols, i)\n",
    "    plt.title(labels_map[label])\n",
    "    plt.axis(\"off\")\n",
    "    plt.imshow(img.squeeze(), cmap=\"gray\")\n",
    "plt.show()"
   ]
  },
  {
   "attachments": {},
   "cell_type": "markdown",
   "metadata": {},
   "source": [
    "- labels_map이라는 딕셔너리를 만들어서 10가지 의류에 대한 라벨링을 해준다.\n",
    "- figure생성 : plt.figure(figsize=(8,8)) 최초의 창의 크기를 가로, 세로 9인치로 설정"
   ]
  },
  {
   "attachments": {},
   "cell_type": "markdown",
   "metadata": {},
   "source": [
    "***\n",
    "**3.Creating a Custom Dataset for my files**\n",
    "- 커스텀 데이터셋 클래스에는 필수적인 메서드 3가지가 존재한다.\n",
    "- __init__, __len__, __getitem__"
   ]
  },
  {
   "cell_type": "code",
   "execution_count": 5,
   "metadata": {},
   "outputs": [],
   "source": [
    "import os\n",
    "import pandas as pd\n",
    "from torchvision.io import read_image"
   ]
  },
  {
   "cell_type": "code",
   "execution_count": null,
   "metadata": {},
   "outputs": [],
   "source": [
    "class CustomImageDataset(Dataset) :\n",
    "    def __init__(self, annotations_file, img_dir, transform=None, target_transform=None) :\n",
    "        self.img_labels = pd.read_csv(annotations_file)\n",
    "        self.img_dir = img_dir\n",
    "        self.transform = transform\n",
    "        self.target_transform = target_transform\n",
    "    \n",
    "    def __len__(self) :\n",
    "        return len(self.img_labels)\n",
    "    \n",
    "    def __getitem__(self, idx) :\n",
    "        img_path = os.path.join(self.img_dir, self.img_labels.iloc[idx, 0])\n",
    "        image = read_image(img_path)\n",
    "        label = self.img_labels.iloc[idx, 1]\n",
    "        if self.transform :\n",
    "            image = self.transform(image)\n",
    "        if self.target_transform :\n",
    "            label = self.target_transform(image)\n",
    "        return image, label\n",
    "        "
   ]
  },
  {
   "attachments": {},
   "cell_type": "markdown",
   "metadata": {},
   "source": [
    "1. \"__init__\"\n",
    "- init함수는 데이터셋 객체가 생성될 때 한 번만 실행된다.\n",
    "- 이미지와 주석 파일(annotation file)이 포함된 디렉토리와 transform여부에 대해서 초기화한다. </br>\n",
    "\n",
    "2. \"__len__\"\n",
    "- len함수는 데이터셋의 샘플의 수를 반환해준다.</br>\n",
    "\n",
    "3. \"__getitem__\"\n",
    "- getitem함수는 주어진 인덱스의 데이터셋에서 샘플을 로드하고 반환한다.\n",
    "- 인덱스를 기반으로 디스크에서 이미지의 경로를 식별하고, read_image를 이용하여 이미지를 텐서로 변환한다.\n",
    "- self.img_labels의 csv데이터에서 해당 레이블을 검색하고, 변환 함수를 호출한다.\n",
    "- 마지막으로 텐서 이미지와 레이블을 튜플 형태로 반환한다."
   ]
  },
  {
   "attachments": {},
   "cell_type": "markdown",
   "metadata": {},
   "source": [
    "***\n",
    "## Neural Network build하기\n",
    "> 아래의 과정에 따라 FashionMNIST dataset을 classify하는 NN을 만들어보자"
   ]
  },
  {
   "cell_type": "code",
   "execution_count": 6,
   "metadata": {},
   "outputs": [
    {
     "name": "stdout",
     "output_type": "stream",
     "text": [
      "Using cuda device\n"
     ]
    }
   ],
   "source": [
    "import os\n",
    "import torch\n",
    "from torch import nn\n",
    "from torch.utils.data import DataLoader\n",
    "from torchvision import datasets, transforms\n",
    "\n",
    "device = 'cuda' if torch.cuda.is_available() else 'cpu'\n",
    "print(f\"Using {device} device\")"
   ]
  },
  {
   "attachments": {},
   "cell_type": "markdown",
   "metadata": {},
   "source": [
    "**1.Define the Class**"
   ]
  },
  {
   "cell_type": "code",
   "execution_count": 15,
   "metadata": {},
   "outputs": [],
   "source": [
    "class NeuralNetwork(nn.Module) :\n",
    "    def __init__(self) :\n",
    "        super(NeuralNetwork, self).__init__()\n",
    "        self.flatten = nn.Flatten()\n",
    "        self.linear_relu_stack = nn.Sequential(\n",
    "            nn.Linear(28*28, 512),\n",
    "            nn.ReLU(),\n",
    "            nn.Linear(512, 512),\n",
    "            nn.ReLU(),\n",
    "            nn.Linear(512, 10),\n",
    "        )\n",
    "    \n",
    "    def forward(self, x) :\n",
    "        x = self.flatten(x)\n",
    "        logits = self.linear_relu_stack(x)\n",
    "        return logits"
   ]
  },
  {
   "cell_type": "code",
   "execution_count": 16,
   "metadata": {},
   "outputs": [
    {
     "name": "stdout",
     "output_type": "stream",
     "text": [
      "NeuralNetwork(\n",
      "  (flatten): Flatten(start_dim=1, end_dim=-1)\n",
      "  (linear_relu_stack): Sequential(\n",
      "    (0): Linear(in_features=784, out_features=512, bias=True)\n",
      "    (1): ReLU()\n",
      "    (2): Linear(in_features=512, out_features=512, bias=True)\n",
      "    (3): ReLU()\n",
      "    (4): Linear(in_features=512, out_features=10, bias=True)\n",
      "  )\n",
      ")\n"
     ]
    }
   ],
   "source": [
    "model = NeuralNetwork().to(device)\n",
    "print(model)"
   ]
  },
  {
   "attachments": {},
   "cell_type": "markdown",
   "metadata": {},
   "source": [
    "- 우리는 nn.Module을 서브클래싱하며 NN을 정의했다.\n",
    "- 또한, init메서드를 통해 NN layers를 초기화했다.\n",
    "- 서브클래스인 nn.Module은 foward메서드의 입력 데이터에 대한 작동을 구현한다."
   ]
  },
  {
   "cell_type": "code",
   "execution_count": 17,
   "metadata": {},
   "outputs": [
    {
     "name": "stdout",
     "output_type": "stream",
     "text": [
      "Predicted class: tensor([7], device='cuda:0')\n"
     ]
    }
   ],
   "source": [
    "X = torch.rand(1, 28, 28, device=device)\n",
    "logits = model(X)\n",
    "pred_probab = nn.Softmax(dim=1)(logits)\n",
    "y_pred = pred_probab.argmax(1)\n",
    "print(f\"Predicted class: {y_pred}\")"
   ]
  },
  {
   "attachments": {},
   "cell_type": "markdown",
   "metadata": {},
   "source": [
    "***\n",
    "**2.Model Layers**\n"
   ]
  },
  {
   "cell_type": "code",
   "execution_count": 18,
   "metadata": {},
   "outputs": [
    {
     "name": "stdout",
     "output_type": "stream",
     "text": [
      "torch.Size([3, 28, 28])\n"
     ]
    }
   ],
   "source": [
    "input_image = torch.rand(3, 28, 28)\n",
    "print(input_image.size())"
   ]
  },
  {
   "attachments": {},
   "cell_type": "markdown",
   "metadata": {},
   "source": [
    "***nn.Flatten***"
   ]
  },
  {
   "cell_type": "code",
   "execution_count": 19,
   "metadata": {},
   "outputs": [
    {
     "name": "stdout",
     "output_type": "stream",
     "text": [
      "torch.Size([3, 784])\n"
     ]
    }
   ],
   "source": [
    "flatten = nn.Flatten()\n",
    "flat_image = flatten(input_image)\n",
    "print(flat_image.size())"
   ]
  },
  {
   "attachments": {},
   "cell_type": "markdown",
   "metadata": {},
   "source": [
    "- 입력 이미지로 크기가 28x28인 3개의 이미지를 넣어주고 NN을 거치며 어떠한 작업을 하는지 살펴보자.\n",
    "- nn.Flatten()을 통해 각 2D 28x28 크기의 이미지를 784픽셀 값의 연속적인 배열로 변환하였다."
   ]
  },
  {
   "attachments": {},
   "cell_type": "markdown",
   "metadata": {},
   "source": [
    "***nn.Linear***"
   ]
  },
  {
   "cell_type": "code",
   "execution_count": 20,
   "metadata": {},
   "outputs": [
    {
     "name": "stdout",
     "output_type": "stream",
     "text": [
      "torch.Size([3, 20])\n"
     ]
    }
   ],
   "source": [
    "layer1 = nn.Linear(in_features=28*28, out_features=20)\n",
    "hidden1 = layer1(flat_image)\n",
    "print(hidden1.size())"
   ]
  },
  {
   "attachments": {},
   "cell_type": "markdown",
   "metadata": {},
   "source": [
    "- linear layer는 저장된 weights와 biases를 통해 입력 데이터를 선형변환해주는 모듈이다.\n",
    "- in_features와 out_features를 통해 선형변환되어 출력되는 데이터의 사이즈를 설정할 수 있다. "
   ]
  },
  {
   "attachments": {},
   "cell_type": "markdown",
   "metadata": {},
   "source": [
    "***nn.ReLU***"
   ]
  },
  {
   "cell_type": "code",
   "execution_count": 21,
   "metadata": {},
   "outputs": [
    {
     "name": "stdout",
     "output_type": "stream",
     "text": [
      "Before ReLU: tensor([[-0.3977, -0.0208,  0.5046, -0.0899, -0.0299,  0.3519,  0.3031,  0.2334,\n",
      "          0.5376,  0.1759,  0.4335, -0.1988, -0.2429,  0.0917,  0.3385,  0.0452,\n",
      "         -0.6041, -0.0282, -0.1894, -0.1877],\n",
      "        [-0.3105,  0.3763,  0.1780, -0.0888, -0.4974,  0.6581,  0.0194,  0.3101,\n",
      "          0.3727,  0.2632,  0.3790, -0.3889,  0.0946,  0.3487,  0.9028, -0.2882,\n",
      "         -0.2788,  0.1352, -0.4593, -0.2575],\n",
      "        [-0.1608, -0.0706,  0.8258, -0.1192, -0.2787,  0.0866, -0.2702,  0.5498,\n",
      "          0.6251,  0.2181,  0.2677,  0.3032, -0.1124,  0.1185,  0.6639,  0.2472,\n",
      "         -0.0736,  0.2926, -0.9189, -0.2041]], grad_fn=<AddmmBackward0>)\n",
      "\n",
      "\n",
      "After ReLU: tensor([[0.0000, 0.0000, 0.5046, 0.0000, 0.0000, 0.3519, 0.3031, 0.2334, 0.5376,\n",
      "         0.1759, 0.4335, 0.0000, 0.0000, 0.0917, 0.3385, 0.0452, 0.0000, 0.0000,\n",
      "         0.0000, 0.0000],\n",
      "        [0.0000, 0.3763, 0.1780, 0.0000, 0.0000, 0.6581, 0.0194, 0.3101, 0.3727,\n",
      "         0.2632, 0.3790, 0.0000, 0.0946, 0.3487, 0.9028, 0.0000, 0.0000, 0.1352,\n",
      "         0.0000, 0.0000],\n",
      "        [0.0000, 0.0000, 0.8258, 0.0000, 0.0000, 0.0866, 0.0000, 0.5498, 0.6251,\n",
      "         0.2181, 0.2677, 0.3032, 0.0000, 0.1185, 0.6639, 0.2472, 0.0000, 0.2926,\n",
      "         0.0000, 0.0000]], grad_fn=<ReluBackward0>)\n"
     ]
    }
   ],
   "source": [
    "print(f\"Before ReLU: {hidden1}\\n\\n\")\n",
    "hidden1 = nn.ReLU()(hidden1)\n",
    "print(f\"After ReLU: {hidden1}\")"
   ]
  },
  {
   "attachments": {},
   "cell_type": "markdown",
   "metadata": {},
   "source": [
    "- 비선형 활성화는 모델의 입력과 출력사이에 복잡하 maping을 만드는 작업이다.\n",
    "- 비선형성을 도입하기 위해서 선형변환 후에 적용되어 신경망이 다양한 현상을 학습하도록 하는 것이다."
   ]
  },
  {
   "attachments": {},
   "cell_type": "markdown",
   "metadata": {},
   "source": [
    "***nn.Sequential***"
   ]
  },
  {
   "cell_type": "code",
   "execution_count": 22,
   "metadata": {},
   "outputs": [],
   "source": [
    "seq_modules = nn.Sequential(\n",
    "    flatten,\n",
    "    layer1,\n",
    "    nn.ReLU(),\n",
    "    nn.Linear(20, 10)\n",
    ")\n",
    "\n",
    "input_image = torch.rand(3, 28, 28)\n",
    "logits = seq_modules(input_image)"
   ]
  },
  {
   "attachments": {},
   "cell_type": "markdown",
   "metadata": {},
   "source": [
    "- nn.Sequential은 순서가 지정된 모듈 컨테이너이다.\n",
    "- 데이터는 정의된 것과 동일한 순서로 모든 모듈을 통해 전달된다.\n",
    "- 순차 컨테이너를 사용하여 seq_modules와 같은 빠른 네트워크를 구성할 수 있다."
   ]
  },
  {
   "attachments": {},
   "cell_type": "markdown",
   "metadata": {},
   "source": [
    "***nn.Softmax***"
   ]
  },
  {
   "cell_type": "code",
   "execution_count": 23,
   "metadata": {},
   "outputs": [],
   "source": [
    "softmax = nn.Softmax(dim=1)\n",
    "pred_probab = softmax(logits)"
   ]
  },
  {
   "attachments": {},
   "cell_type": "markdown",
   "metadata": {},
   "source": [
    "- 신경망의 마지막 선형 계층은 nn.Softmax 모듈로 전달되는 [-infty, infty]의 원시 값인 logits을 반환한다.\n",
    "- logits은 각 클래스에 대한 모델의 예측 확률을 나타내는 값 [0, 1]로 조정된다.\n",
    "- dim매개변수는 값의 합이 1이 되어야 하는 차원을 나타낸다."
   ]
  },
  {
   "attachments": {},
   "cell_type": "markdown",
   "metadata": {},
   "source": [
    "***\n",
    "**3.Model Parameters**"
   ]
  },
  {
   "cell_type": "code",
   "execution_count": 24,
   "metadata": {},
   "outputs": [
    {
     "name": "stdout",
     "output_type": "stream",
     "text": [
      "Model structure: NeuralNetwork(\n",
      "  (flatten): Flatten(start_dim=1, end_dim=-1)\n",
      "  (linear_relu_stack): Sequential(\n",
      "    (0): Linear(in_features=784, out_features=512, bias=True)\n",
      "    (1): ReLU()\n",
      "    (2): Linear(in_features=512, out_features=512, bias=True)\n",
      "    (3): ReLU()\n",
      "    (4): Linear(in_features=512, out_features=10, bias=True)\n",
      "  )\n",
      ")\n",
      "\n",
      "\n",
      "Layer: linear_relu_stack.0.weight | Size: torch.Size([512, 784]) | Values: tensor([[-0.0166, -0.0266, -0.0230,  ...,  0.0009,  0.0160, -0.0075],\n",
      "        [ 0.0308,  0.0283,  0.0135,  ..., -0.0150,  0.0100,  0.0042]],\n",
      "       device='cuda:0', grad_fn=<SliceBackward0>) \n",
      "\n",
      "Layer: linear_relu_stack.0.bias | Size: torch.Size([512]) | Values: tensor([0.0331, 0.0102], device='cuda:0', grad_fn=<SliceBackward0>) \n",
      "\n",
      "Layer: linear_relu_stack.2.weight | Size: torch.Size([512, 512]) | Values: tensor([[-0.0134, -0.0315,  0.0105,  ...,  0.0188, -0.0275,  0.0174],\n",
      "        [-0.0200,  0.0100, -0.0276,  ..., -0.0368, -0.0359,  0.0181]],\n",
      "       device='cuda:0', grad_fn=<SliceBackward0>) \n",
      "\n",
      "Layer: linear_relu_stack.2.bias | Size: torch.Size([512]) | Values: tensor([-0.0198,  0.0284], device='cuda:0', grad_fn=<SliceBackward0>) \n",
      "\n",
      "Layer: linear_relu_stack.4.weight | Size: torch.Size([10, 512]) | Values: tensor([[-0.0369, -0.0034, -0.0366,  ...,  0.0161, -0.0048, -0.0078],\n",
      "        [ 0.0328,  0.0425, -0.0255,  ...,  0.0428,  0.0305,  0.0307]],\n",
      "       device='cuda:0', grad_fn=<SliceBackward0>) \n",
      "\n",
      "Layer: linear_relu_stack.4.bias | Size: torch.Size([10]) | Values: tensor([-0.0316, -0.0263], device='cuda:0', grad_fn=<SliceBackward0>) \n",
      "\n"
     ]
    }
   ],
   "source": [
    "print(f\"Model structure: {model}\\n\\n\")\n",
    "\n",
    "for name, param in model.named_parameters() :\n",
    "    print(f\"Layer: {name} | Size: {param.size()} | Values: {param[:2]} \\n\")"
   ]
  },
  {
   "attachments": {},
   "cell_type": "markdown",
   "metadata": {},
   "source": [
    "- 신경망 내부의 많은 layer들은 매개변수화 되어 있다.\n",
    "- 즉, 훈련 중에 최적화되는 관련 가중치 및 편향이 존재한다.\n",
    "- nn.Module을 서브클래싱하면 모델 객체 내부에 정의된 모든 필드를 자동으로 추적하고, 모델의 parameters() 또는 named_parameters() 메서드를 사용하여 모든 매개변수에 액세스 할 수 있다."
   ]
  },
  {
   "attachments": {},
   "cell_type": "markdown",
   "metadata": {},
   "source": [
    "***\n",
    "## Optimizing Model Parameters\n",
    "> 이제 모델과 데이터가 있으므로 데이터에 대한 매개변수를 최적화하여 모델을 훈련, 검증할 차례이다.\n",
    "\n",
    "- 모델의 학습은 반복적인 과정이다.\n",
    "- 각 반복에서 모데은 출력에 대해 추측하고, 추측에서 오류(손실)을 계산하고 매개변수와 관련하여 손실의 미분을 수집하고 경사하강법을 통하여 이러한 매개변수를 최적화한다."
   ]
  },
  {
   "cell_type": "code",
   "execution_count": 1,
   "metadata": {},
   "outputs": [],
   "source": [
    "import torch\n",
    "from torch import nn\n",
    "from torch.utils.data import DataLoader\n",
    "from torchvision import datasets\n",
    "from torchvision.transforms import ToTensor"
   ]
  },
  {
   "cell_type": "code",
   "execution_count": 16,
   "metadata": {},
   "outputs": [
    {
     "name": "stdout",
     "output_type": "stream",
     "text": [
      "<torch.utils.data.dataloader.DataLoader object at 0x0000023A5868E5B0>\n"
     ]
    }
   ],
   "source": [
    "training_data = datasets.FashionMNIST(\n",
    "    root=\"data\",\n",
    "    train=True,\n",
    "    download=True,\n",
    "    transform=ToTensor()\n",
    ")\n",
    "\n",
    "test_data = datasets.FashionMNIST(\n",
    "    root=\"data\",\n",
    "    train=False,\n",
    "    download=True,\n",
    "    transform=ToTensor()\n",
    ")\n",
    "\n",
    "train_dataloader = DataLoader(training_data, batch_size=64)\n",
    "test_dataloader = DataLoader(test_data, batch_size=64)"
   ]
  },
  {
   "cell_type": "code",
   "execution_count": 9,
   "metadata": {},
   "outputs": [],
   "source": [
    "class NeuralNetwork(nn.Module) :\n",
    "    def __init__(self) :\n",
    "        super(NeuralNetwork, self).__init__()\n",
    "        self.flatten = nn.Flatten()\n",
    "        self.linear_relu_stack = nn.Sequential(\n",
    "            nn.Linear(28*28, 512),\n",
    "            nn.ReLU(),\n",
    "            nn.Linear(512, 512),\n",
    "            nn.ReLU(),\n",
    "            nn.Linear(512, 10),\n",
    "        )\n",
    "    \n",
    "    def forward(self, x) :\n",
    "        x = self.flatten(x)\n",
    "        logits = self.linear_relu_stack(x)\n",
    "        return logits\n",
    "\n",
    "model = NeuralNetwork()"
   ]
  },
  {
   "attachments": {},
   "cell_type": "markdown",
   "metadata": {},
   "source": [
    "**Hyperparameter**\n",
    "- 하이퍼파라미터는 모델 최적화 과정을 제어할 수 있는 조절 가능한 매개변수이다.\n",
    "- 서로 다른 하이퍼파라미터값은 모델 학습과 수렴율에 영향을 미칠 수 있다.\n",
    "- 학습 시에 정의하는 하이퍼파라미터를 알아보자.\n",
    "    - 1. 에폭(epoch)수 : 데이터셋을 반복하는 횟수\n",
    "    - 2. 배치 크기(batch size) : 매개변수가 갱신되기 전 신경망을 통해 전파된 데이터 샘플의 수\n",
    "    - 3. 학습률(learning rate) : 각 배치/에폭에서 모델의 매개변수를 조절하는 비율. 값이 작을수록 학습 속도가 느려지고, 값이 크면 학습 중 예측할 수 없는 동작이 발생할 수 있다."
   ]
  },
  {
   "cell_type": "code",
   "execution_count": 4,
   "metadata": {},
   "outputs": [],
   "source": [
    "learning_rate = 1e-3\n",
    "batch_size = 64\n",
    "epochs = 5"
   ]
  },
  {
   "attachments": {},
   "cell_type": "markdown",
   "metadata": {},
   "source": [
    "**Optimization Loop 최적화 단계**\n",
    "- 하이퍼파라미터를 설정한 뒤에는 최적화 단계를 통해 모델을 학습하고 최적화할 수 있다.\n",
    "- 최적화 단계의 각 반복을 '에폭'이라고 한다.\n",
    "- 하나의 에폭은 다음 두 부분으로 구성된다.\n",
    "    - 학습 단계 : 학습용 데이터셋을 반복하고 최적의 매개변수로 수렴한다.\n",
    "    - 검증/테스트 단계 : 모델 성능이 개선되고 있는지를 확인하기 위해 테스트 데이터셋을 반복한다."
   ]
  },
  {
   "attachments": {},
   "cell_type": "markdown",
   "metadata": {},
   "source": [
    "**Loss function 손실 함수**\n",
    "- 학습용 데이터를 제공하면 학습되지 않은 신경망은 정답을 제공하지 않을 확률이 높다. '손실 함수'는 획득한 결과와 실제 값 사이의 틀린 정도를 측정하며, 학습 중에 이 값을 최소화하려고 한다.\n",
    "- 주어진 데이터 샘플을 입력으로 계산한 예측과 정답을 비교하여 손실을 계산한다.\n"
   ]
  },
  {
   "cell_type": "code",
   "execution_count": 5,
   "metadata": {},
   "outputs": [],
   "source": [
    "loss_fn = nn.CrossEntropyLoss()"
   ]
  },
  {
   "attachments": {},
   "cell_type": "markdown",
   "metadata": {},
   "source": [
    "**Optimizer**\n",
    "- 최적화는 각 학습 단계에서 모델의 오류를 줄이기 위해 모델 매개변수를 조정하는 과정이다.\n",
    "- 최적화 알고리즘은 이 과정이 수행되는 방식(여기서는 SGD:경사하강법)을 정의한다.\n",
    "- 학습하려는 모델의 매개변수와 학습률 하이퍼파라미터를 등록하여 옵티마이저를 초기화한다."
   ]
  },
  {
   "cell_type": "code",
   "execution_count": 6,
   "metadata": {},
   "outputs": [],
   "source": [
    "optimizer = torch.optim.SGD(model.parameters(), lr=learning_rate)"
   ]
  },
  {
   "attachments": {},
   "cell_type": "markdown",
   "metadata": {},
   "source": [
    "- 학습 단계에서 최적화는 3단계로 이루어진다.\n",
    "    - optimzer.zero_grad()를 호출하여 모델 매개변수의 변화도를 재설정한다. 기본적으로 변화도는 더해지기 때문에 중복 계산을 막기 위해 반복할 때마다 명시적으로 0으로 설정해준다.\n",
    "    - loss.backward()를 호출하여 예측 손실을 역전파한다. PyTorch는 각 매개변수에 대한 손실의 변화도를 저장한다.\n",
    "    - 변화도를 계산한 뒤에는 optimzer.step()을 호출하여 역전파 단계에서 수집된 변화도로 매개변수를 조정한다."
   ]
  },
  {
   "cell_type": "code",
   "execution_count": 17,
   "metadata": {},
   "outputs": [],
   "source": [
    "def train_loop(dataloader, model, loss_fn, optimizer) :\n",
    "    size = len(dataloader.dataset)\n",
    "    for batch, (X, y) in enumerate(dataloader) :\n",
    "        pred = model(X)\n",
    "        loss = loss_fn(pred, y)\n",
    "        \n",
    "        optimizer.zero_grad()\n",
    "        loss.backward()                  \n",
    "        optimizer.step()\n",
    "        \n",
    "        if batch % 100 == 0 :\n",
    "            loss, current = loss.item(), batch * len(X)\n",
    "            print(f\"loss: {loss:>7f} [{current:>5d}/{size:>5d}]\")\n",
    "            \n",
    "def test_loop(dataloader, model, loss_fn) :\n",
    "    size = len(dataloader.dataset)\n",
    "    num_batches = len(dataloader)\n",
    "    test_loss, correct = 0, 0\n",
    "    \n",
    "    with torch.no_grad() :\n",
    "        for X, y in dataloader :\n",
    "            pred = model(X)\n",
    "            test_loss += loss_fn(pred, y).item()\n",
    "            correct += (pred.argmax(1) == y).type(torch.float).sum().item()\n",
    "    \n",
    "    test_loss /= num_batches\n",
    "    correct /= size\n",
    "    print(f\"Test Error: \\n Accuracy: {(100*correct):>0.1f}%, Avg loss: {test_loss:>8f} \\n\")"
   ]
  },
  {
   "cell_type": "code",
   "execution_count": 11,
   "metadata": {},
   "outputs": [
    {
     "name": "stderr",
     "output_type": "stream",
     "text": [
      "  0%|          | 0/10 [00:00<?, ?it/s]"
     ]
    },
    {
     "name": "stdout",
     "output_type": "stream",
     "text": [
      "Epoch 1\n",
      "--------------------------\n",
      "loss: 0.948649 [    0/60000]\n",
      "loss: 0.976848 [ 6400/60000]\n",
      "loss: 0.779725 [12800/60000]\n",
      "loss: 0.951289 [19200/60000]\n",
      "loss: 0.835124 [25600/60000]\n",
      "loss: 0.855829 [32000/60000]\n",
      "loss: 0.913115 [38400/60000]\n",
      "loss: 0.865771 [44800/60000]\n",
      "loss: 0.896642 [51200/60000]\n",
      "loss: 0.844718 [57600/60000]\n"
     ]
    },
    {
     "name": "stderr",
     "output_type": "stream",
     "text": [
      " 10%|█         | 1/10 [00:12<01:48, 12.07s/it]"
     ]
    },
    {
     "name": "stdout",
     "output_type": "stream",
     "text": [
      "Test Error: \n",
      " Accuracy: 68.3%, Avg loss: 0.853855 \n",
      "\n",
      "Epoch 2\n",
      "--------------------------\n",
      "loss: 0.881526 [    0/60000]\n",
      "loss: 0.926738 [ 6400/60000]\n",
      "loss: 0.718623 [12800/60000]\n",
      "loss: 0.903146 [19200/60000]\n",
      "loss: 0.794074 [25600/60000]\n",
      "loss: 0.804934 [32000/60000]\n",
      "loss: 0.872765 [38400/60000]\n",
      "loss: 0.831252 [44800/60000]\n",
      "loss: 0.854689 [51200/60000]\n",
      "loss: 0.809087 [57600/60000]\n"
     ]
    },
    {
     "name": "stderr",
     "output_type": "stream",
     "text": [
      " 20%|██        | 2/10 [00:24<01:39, 12.39s/it]"
     ]
    },
    {
     "name": "stdout",
     "output_type": "stream",
     "text": [
      "Test Error: \n",
      " Accuracy: 69.6%, Avg loss: 0.815674 \n",
      "\n",
      "Epoch 3\n",
      "--------------------------\n",
      "loss: 0.827917 [    0/60000]\n",
      "loss: 0.887042 [ 6400/60000]\n",
      "loss: 0.670959 [12800/60000]\n",
      "loss: 0.866337 [19200/60000]\n",
      "loss: 0.763026 [25600/60000]\n",
      "loss: 0.765714 [32000/60000]\n",
      "loss: 0.840114 [38400/60000]\n",
      "loss: 0.805557 [44800/60000]\n",
      "loss: 0.821995 [51200/60000]\n",
      "loss: 0.780709 [57600/60000]\n"
     ]
    },
    {
     "name": "stderr",
     "output_type": "stream",
     "text": [
      " 30%|███       | 3/10 [00:37<01:28, 12.71s/it]"
     ]
    },
    {
     "name": "stdout",
     "output_type": "stream",
     "text": [
      "Test Error: \n",
      " Accuracy: 70.9%, Avg loss: 0.785367 \n",
      "\n",
      "Epoch 4\n",
      "--------------------------\n",
      "loss: 0.783316 [    0/60000]\n",
      "loss: 0.854003 [ 6400/60000]\n",
      "loss: 0.632451 [12800/60000]\n",
      "loss: 0.837207 [19200/60000]\n",
      "loss: 0.738201 [25600/60000]\n",
      "loss: 0.734786 [32000/60000]\n",
      "loss: 0.812227 [38400/60000]\n",
      "loss: 0.785130 [44800/60000]\n",
      "loss: 0.795411 [51200/60000]\n",
      "loss: 0.757218 [57600/60000]\n"
     ]
    },
    {
     "name": "stderr",
     "output_type": "stream",
     "text": [
      " 40%|████      | 4/10 [00:49<01:14, 12.40s/it]"
     ]
    },
    {
     "name": "stdout",
     "output_type": "stream",
     "text": [
      "Test Error: \n",
      " Accuracy: 72.2%, Avg loss: 0.760204 \n",
      "\n",
      "Epoch 5\n",
      "--------------------------\n",
      "loss: 0.745310 [    0/60000]\n",
      "loss: 0.825201 [ 6400/60000]\n",
      "loss: 0.600467 [12800/60000]\n",
      "loss: 0.813539 [19200/60000]\n",
      "loss: 0.717568 [25600/60000]\n",
      "loss: 0.709841 [32000/60000]\n",
      "loss: 0.787605 [38400/60000]\n",
      "loss: 0.768092 [44800/60000]\n",
      "loss: 0.773002 [51200/60000]\n",
      "loss: 0.737087 [57600/60000]\n"
     ]
    },
    {
     "name": "stderr",
     "output_type": "stream",
     "text": [
      " 50%|█████     | 5/10 [01:01<01:01, 12.25s/it]"
     ]
    },
    {
     "name": "stdout",
     "output_type": "stream",
     "text": [
      "Test Error: \n",
      " Accuracy: 73.1%, Avg loss: 0.738543 \n",
      "\n",
      "Epoch 6\n",
      "--------------------------\n",
      "loss: 0.712306 [    0/60000]\n",
      "loss: 0.799343 [ 6400/60000]\n",
      "loss: 0.573273 [12800/60000]\n",
      "loss: 0.793713 [19200/60000]\n",
      "loss: 0.699899 [25600/60000]\n",
      "loss: 0.689300 [32000/60000]\n",
      "loss: 0.765156 [38400/60000]\n",
      "loss: 0.753190 [44800/60000]\n",
      "loss: 0.753974 [51200/60000]\n",
      "loss: 0.719314 [57600/60000]\n"
     ]
    },
    {
     "name": "stderr",
     "output_type": "stream",
     "text": [
      " 60%|██████    | 6/10 [01:13<00:48, 12.16s/it]"
     ]
    },
    {
     "name": "stdout",
     "output_type": "stream",
     "text": [
      "Test Error: \n",
      " Accuracy: 74.1%, Avg loss: 0.719429 \n",
      "\n",
      "Epoch 7\n",
      "--------------------------\n",
      "loss: 0.683429 [    0/60000]\n",
      "loss: 0.775863 [ 6400/60000]\n",
      "loss: 0.549706 [12800/60000]\n",
      "loss: 0.776568 [19200/60000]\n",
      "loss: 0.684579 [25600/60000]\n",
      "loss: 0.672090 [32000/60000]\n",
      "loss: 0.744454 [38400/60000]\n",
      "loss: 0.739966 [44800/60000]\n",
      "loss: 0.737548 [51200/60000]\n",
      "loss: 0.703389 [57600/60000]\n"
     ]
    },
    {
     "name": "stderr",
     "output_type": "stream",
     "text": [
      " 70%|███████   | 7/10 [01:25<00:36, 12.12s/it]"
     ]
    },
    {
     "name": "stdout",
     "output_type": "stream",
     "text": [
      "Test Error: \n",
      " Accuracy: 74.9%, Avg loss: 0.702224 \n",
      "\n",
      "Epoch 8\n",
      "--------------------------\n",
      "loss: 0.657863 [    0/60000]\n",
      "loss: 0.754383 [ 6400/60000]\n",
      "loss: 0.529030 [12800/60000]\n",
      "loss: 0.761500 [19200/60000]\n",
      "loss: 0.671114 [25600/60000]\n",
      "loss: 0.657437 [32000/60000]\n",
      "loss: 0.725268 [38400/60000]\n",
      "loss: 0.728057 [44800/60000]\n",
      "loss: 0.723183 [51200/60000]\n",
      "loss: 0.688926 [57600/60000]\n"
     ]
    },
    {
     "name": "stderr",
     "output_type": "stream",
     "text": [
      " 80%|████████  | 8/10 [01:37<00:24, 12.11s/it]"
     ]
    },
    {
     "name": "stdout",
     "output_type": "stream",
     "text": [
      "Test Error: \n",
      " Accuracy: 75.5%, Avg loss: 0.686550 \n",
      "\n",
      "Epoch 9\n",
      "--------------------------\n",
      "loss: 0.635095 [    0/60000]\n",
      "loss: 0.734727 [ 6400/60000]\n",
      "loss: 0.510765 [12800/60000]\n",
      "loss: 0.747927 [19200/60000]\n",
      "loss: 0.659308 [25600/60000]\n",
      "loss: 0.644766 [32000/60000]\n",
      "loss: 0.707381 [38400/60000]\n",
      "loss: 0.717291 [44800/60000]\n",
      "loss: 0.710521 [51200/60000]\n",
      "loss: 0.675653 [57600/60000]\n"
     ]
    },
    {
     "name": "stderr",
     "output_type": "stream",
     "text": [
      " 90%|█████████ | 9/10 [01:49<00:12, 12.08s/it]"
     ]
    },
    {
     "name": "stdout",
     "output_type": "stream",
     "text": [
      "Test Error: \n",
      " Accuracy: 76.1%, Avg loss: 0.672185 \n",
      "\n",
      "Epoch 10\n",
      "--------------------------\n",
      "loss: 0.614841 [    0/60000]\n",
      "loss: 0.716672 [ 6400/60000]\n",
      "loss: 0.494499 [12800/60000]\n",
      "loss: 0.735538 [19200/60000]\n",
      "loss: 0.649016 [25600/60000]\n",
      "loss: 0.633802 [32000/60000]\n",
      "loss: 0.690645 [38400/60000]\n",
      "loss: 0.707661 [44800/60000]\n",
      "loss: 0.699479 [51200/60000]\n",
      "loss: 0.663378 [57600/60000]\n"
     ]
    },
    {
     "name": "stderr",
     "output_type": "stream",
     "text": [
      "100%|██████████| 10/10 [02:01<00:00, 12.18s/it]"
     ]
    },
    {
     "name": "stdout",
     "output_type": "stream",
     "text": [
      "Test Error: \n",
      " Accuracy: 76.7%, Avg loss: 0.658981 \n",
      "\n",
      "Done!\n"
     ]
    },
    {
     "name": "stderr",
     "output_type": "stream",
     "text": [
      "\n"
     ]
    }
   ],
   "source": [
    "from tqdm import tqdm\n",
    "\n",
    "loss_fn = nn.CrossEntropyLoss()\n",
    "optimizer = torch.optim.SGD(model.parameters(), lr=learning_rate)\n",
    "\n",
    "epochs = 10\n",
    "for t in tqdm(range(epochs)) :\n",
    "    print(f\"Epoch {t+1}\\n--------------------------\")\n",
    "    train_loop(train_dataloader, model, loss_fn, optimizer)\n",
    "    test_loop(test_dataloader, model, loss_fn)\n",
    "print(\"Done!\")"
   ]
  }
 ],
 "metadata": {
  "kernelspec": {
   "display_name": "base",
   "language": "python",
   "name": "python3"
  },
  "language_info": {
   "codemirror_mode": {
    "name": "ipython",
    "version": 3
   },
   "file_extension": ".py",
   "mimetype": "text/x-python",
   "name": "python",
   "nbconvert_exporter": "python",
   "pygments_lexer": "ipython3",
   "version": "3.9.12"
  },
  "orig_nbformat": 4,
  "vscode": {
   "interpreter": {
    "hash": "52d90d3cc821dd0beedd6e719dbdecc722c226b9d90ed1b663c34e1877f1142e"
   }
  }
 },
 "nbformat": 4,
 "nbformat_minor": 2
}
