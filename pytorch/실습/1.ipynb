{
  "cells": [
    {
      "cell_type": "markdown",
      "metadata": {
        "id": "GXXTIqUOdVnG"
      },
      "source": [
        "### 1. [PyTorch Framwork Tutorial]\n",
        "\n",
        "> (1) 아래의 자료를 실습하고, 다음 설명의 주요 함수/API를 작성하세요.\n",
        "\n",
        "***"
      ]
    },
    {
      "cell_type": "code",
      "execution_count": null,
      "metadata": {
        "id": "0SvoRKl0dVnI"
      },
      "outputs": [],
      "source": [
        "import torch\n",
        "import numpy as np"
      ]
    },
    {
      "cell_type": "markdown",
      "metadata": {
        "id": "6eUjCx2PdVnJ"
      },
      "source": [
        "1. **torch.rand(shape)** : Returns a tensor filed with random numbers from a uniform distribution on the interval [0,1)"
      ]
    },
    {
      "cell_type": "code",
      "execution_count": null,
      "metadata": {
        "id": "HvgxZCHzdVnJ",
        "outputId": "7f724027-057f-4840-d084-861e93e765c4"
      },
      "outputs": [
        {
          "name": "stdout",
          "output_type": "stream",
          "text": [
            "Random Tensor: \n",
            " tensor([[0.7780, 0.7896, 0.9713],\n",
            "        [0.5523, 0.5218, 0.1944]]) \n",
            "\n"
          ]
        }
      ],
      "source": [
        "shape = (2, 3,)\n",
        "rand_tensor = torch.rand(shape)\n",
        "\n",
        "print(f\"Random Tensor: \\n {rand_tensor} \\n\")"
      ]
    },
    {
      "cell_type": "markdown",
      "metadata": {
        "id": "6yKf7qMqdVnK"
      },
      "source": [
        "2. **torch.zeros(shape)** : Returns a tensor filled with the scalar value 0, with the shape defined by the variable argument size."
      ]
    },
    {
      "cell_type": "code",
      "execution_count": null,
      "metadata": {
        "id": "fV_r8PpidVnK",
        "outputId": "f1a34944-af72-4d3c-aaac-5426770ee6a0"
      },
      "outputs": [
        {
          "name": "stdout",
          "output_type": "stream",
          "text": [
            "Zeros Tensor: \n",
            " tensor([[0., 0., 0.],\n",
            "        [0., 0., 0.]]) \n",
            "\n"
          ]
        }
      ],
      "source": [
        "shape = (2, 3,)\n",
        "zeros_tensor = torch.zeros(shape)\n",
        "\n",
        "print(f\"Zeros Tensor: \\n {zeros_tensor} \\n\")"
      ]
    },
    {
      "cell_type": "markdown",
      "metadata": {
        "id": "XNqe1W5ddVnK"
      },
      "source": [
        "3. **torch.tensor(data)** : Constructs a tensor with data."
      ]
    },
    {
      "cell_type": "code",
      "execution_count": null,
      "metadata": {
        "id": "UXK5F8O3dVnL",
        "outputId": "9d045acf-84d8-43df-90f6-d338fd16743d"
      },
      "outputs": [
        {
          "name": "stdout",
          "output_type": "stream",
          "text": [
            "tensor([[1, 2],\n",
            "        [3, 4]])\n"
          ]
        }
      ],
      "source": [
        "data = [[1, 2], [3, 4]]\n",
        "x_data = torch.tensor(data)\n",
        "\n",
        "print(x_data)"
      ]
    },
    {
      "cell_type": "markdown",
      "metadata": {
        "id": "TWjhAvfwdVnL"
      },
      "source": [
        "4. **torch.from_numpy(np_array)** : Creates a Tensor from a numpy.ndarray"
      ]
    },
    {
      "cell_type": "code",
      "execution_count": null,
      "metadata": {
        "id": "r4-kP378dVnL",
        "outputId": "f8c9a605-f0ff-420d-c5d4-9d33df71231f"
      },
      "outputs": [
        {
          "name": "stdout",
          "output_type": "stream",
          "text": [
            "tensor([[1, 2],\n",
            "        [3, 4]], dtype=torch.int32)\n"
          ]
        }
      ],
      "source": [
        "np_array = np.array(data)\n",
        "x_np = torch.from_numpy(np_array)\n",
        "\n",
        "print(x_np)"
      ]
    },
    {
      "cell_type": "markdown",
      "metadata": {
        "id": "A-e2H4PNdVnM"
      },
      "source": [
        "5. **torch.as_tensor(data)** : Convert the data into a torch.Tensor."
      ]
    },
    {
      "cell_type": "code",
      "execution_count": null,
      "metadata": {
        "id": "LKgS_NPsdVnM",
        "outputId": "88c428e4-b104-4367-8d01-1e107902f679"
      },
      "outputs": [
        {
          "name": "stdout",
          "output_type": "stream",
          "text": [
            "tensor([[1., 2.],\n",
            "        [3., 4.]])\n"
          ]
        }
      ],
      "source": [
        "tensor_data = torch.as_tensor(data)\n",
        "\n",
        "print(tensor_data)"
      ]
    },
    {
      "cell_type": "markdown",
      "metadata": {
        "id": "9vyWb2vudVnM"
      },
      "source": [
        "6. **torch.cat** : Concatenates sequence of seq tensors in the given dimension."
      ]
    },
    {
      "cell_type": "code",
      "execution_count": null,
      "metadata": {
        "id": "JqUQuQdXdVnM",
        "outputId": "e9b5842e-ecea-4626-a56a-44d5ceacabce"
      },
      "outputs": [
        {
          "name": "stdout",
          "output_type": "stream",
          "text": [
            "tensor([[1., 1., 1., 1., 1., 1., 1., 1., 1., 1., 1., 1.],\n",
            "        [1., 1., 1., 1., 1., 1., 1., 1., 1., 1., 1., 1.],\n",
            "        [1., 1., 1., 1., 1., 1., 1., 1., 1., 1., 1., 1.],\n",
            "        [1., 1., 1., 1., 1., 1., 1., 1., 1., 1., 1., 1.]])\n"
          ]
        }
      ],
      "source": [
        "tensor = torch.ones(4, 4)\n",
        "t1 = torch.cat([tensor, tensor, tensor], dim=1)\n",
        "\n",
        "print(t1)"
      ]
    },
    {
      "cell_type": "markdown",
      "metadata": {
        "id": "cPKTfmmldVnN"
      },
      "source": [
        "7. **torch.stack** : Concatenates sequence of tensors along a new dimension."
      ]
    },
    {
      "cell_type": "code",
      "execution_count": null,
      "metadata": {
        "id": "UUYHix3NdVnN",
        "outputId": "337163d5-6c0c-44ac-ec59-8a48f567c1f8"
      },
      "outputs": [
        {
          "name": "stdout",
          "output_type": "stream",
          "text": [
            "tensor([[1, 2, 3],\n",
            "        [4, 5, 6],\n",
            "        [7, 8, 9]])\n"
          ]
        }
      ],
      "source": [
        "tensor1 = torch.tensor([1, 2, 3])\n",
        "tensor2 = torch.tensor([4, 5, 6])\n",
        "tensor3 = torch.tensor([7, 8, 9])\n",
        "stacked_tensor = torch.stack((tensor1, tensor2, tensor3), dim=0)\n",
        "\n",
        "print(stacked_tensor)"
      ]
    },
    {
      "cell_type": "markdown",
      "metadata": {
        "id": "XTkcg2k5dVnN"
      },
      "source": [
        "8. **torch.eye** : Returns a 2-D tensor with ones on the diagonal and zeros elsewhere."
      ]
    },
    {
      "cell_type": "code",
      "execution_count": null,
      "metadata": {
        "id": "jL4n4vDEdVnN",
        "outputId": "789d121b-f394-4dc4-bc15-5952e84ad3d2"
      },
      "outputs": [
        {
          "name": "stdout",
          "output_type": "stream",
          "text": [
            "tensor([[1., 0., 0.],\n",
            "        [0., 1., 0.],\n",
            "        [0., 0., 1.]])\n"
          ]
        }
      ],
      "source": [
        "t2 = torch.eye(3)\n",
        "\n",
        "print(t2)"
      ]
    },
    {
      "cell_type": "markdown",
      "metadata": {
        "id": "pJ0n6c_EdVnO"
      },
      "source": [
        "9. A tensor can be created with **<torch.tensor(data, requires_grad=True)>** so that torch.autograd records operations on the for automatic differentiation."
      ]
    },
    {
      "cell_type": "code",
      "execution_count": null,
      "metadata": {
        "id": "6MEkHNXNdVnO",
        "outputId": "fe699046-a26b-44c7-c6a0-c6354f352bc4"
      },
      "outputs": [
        {
          "name": "stdout",
          "output_type": "stream",
          "text": [
            "tensor([2.])\n"
          ]
        }
      ],
      "source": [
        "x = torch.tensor([1.0], requires_grad=True)\n",
        "y = x*2\n",
        "y.backward()\n",
        "gradient = x.grad\n",
        "\n",
        "print(gradient)"
      ]
    },
    {
      "cell_type": "markdown",
      "metadata": {
        "id": "gEm6EbT9dVnO"
      },
      "source": [
        "10. **torch.autograd.backward** : Computes the sum of gradients of given tensors w.r.t. graph leaves."
      ]
    },
    {
      "cell_type": "code",
      "execution_count": null,
      "metadata": {
        "id": "qhvuq5hEdVnO"
      },
      "outputs": [],
      "source": [
        "x = torch.tensor([2.0], requires_grad=True)\n",
        "y = x*2\n",
        "\n",
        "y.backward()"
      ]
    },
    {
      "cell_type": "markdown",
      "metadata": {
        "id": "ptRvCJGbdVnO"
      },
      "source": [
        "11. **torch.autograd.grad** : Computes and returns the sum of gradients of outputs w.r.t. the inputs."
      ]
    },
    {
      "cell_type": "code",
      "execution_count": null,
      "metadata": {
        "id": "hz1JfPGWdVnP",
        "outputId": "8384c785-48f5-41ec-a085-e4f622ba9960"
      },
      "outputs": [
        {
          "name": "stdout",
          "output_type": "stream",
          "text": [
            "(tensor([4.]),)\n"
          ]
        }
      ],
      "source": [
        "x = torch.tensor([2.0], requires_grad=True)\n",
        "y = x**2\n",
        "grads = torch.autograd.grad(y, x)\n",
        "\n",
        "print(grads)"
      ]
    },
    {
      "cell_type": "markdown",
      "metadata": {
        "id": "YB7Rg2CFdVnP"
      },
      "source": [
        "12. **torch.norm** : Returns the matrix norm or vector norm of a given tensor."
      ]
    },
    {
      "cell_type": "code",
      "execution_count": null,
      "metadata": {
        "id": "wJAgBQ7YdVnP",
        "outputId": "59aa4b7c-724c-4493-9ccd-4519eb696d4a"
      },
      "outputs": [
        {
          "name": "stdout",
          "output_type": "stream",
          "text": [
            "tensor(5.4772)\n"
          ]
        }
      ],
      "source": [
        "data = [[1.0, 2.0], [3.0, 4.0]]\n",
        "x_data = torch.tensor(data)\n",
        "\n",
        "print(torch.norm(x_data))"
      ]
    },
    {
      "cell_type": "markdown",
      "metadata": {
        "id": "-jF3mEyUdVnP"
      },
      "source": [
        "13. **torch.no_grad** : Context-manager that disabled gradient calculation."
      ]
    },
    {
      "cell_type": "code",
      "execution_count": null,
      "metadata": {
        "id": "Aaxs54u8dVnQ"
      },
      "outputs": [],
      "source": [
        "x = torch.tensor([2.0], requires_grad=True)\n",
        "\n",
        "with torch.no_grad():\n",
        "    y = x * 3  # 이 연산에 대한 그래디언트는 계산되지 않음\n",
        "\n",
        "z = y + 1"
      ]
    },
    {
      "cell_type": "markdown",
      "metadata": {
        "id": "UHQQteVCdVnQ"
      },
      "source": [
        "14. **torch.Tensor.detach** : Returns a new Tensor, detached from the current graph. The result will never require gradient."
      ]
    },
    {
      "cell_type": "code",
      "execution_count": null,
      "metadata": {
        "id": "rZ6XJ-RFdVnQ",
        "outputId": "d9691c5c-2472-42e1-daeb-1e80a663102e"
      },
      "outputs": [
        {
          "name": "stdout",
          "output_type": "stream",
          "text": [
            "tensor([3.])\n",
            "None\n"
          ]
        }
      ],
      "source": [
        "x = torch.tensor([2.0], requires_grad=True)\n",
        "\n",
        "y = x * 3\n",
        "z = y + 1\n",
        "\n",
        "y_detached = y.detach()\n",
        "z.backward()\n",
        "\n",
        "print(x.grad)\n",
        "print(y_detached.grad)  # y_detached에 대한 그래디언트는 None"
      ]
    },
    {
      "cell_type": "markdown",
      "metadata": {
        "id": "eUedkCWLdVnQ"
      },
      "source": [
        "***\n",
        "> 2. 다음 주어진 x값을 토대로 아래의 문제를 수행하세요."
      ]
    },
    {
      "cell_type": "code",
      "execution_count": null,
      "metadata": {
        "id": "RLMFDn3EdVnS",
        "outputId": "5a01da81-c692-4f69-ac34-bc6fb800f7d2"
      },
      "outputs": [
        {
          "data": {
            "text/plain": [
              "tensor([[0.6855, 0.8807, 0.8947, 0.5136],\n",
              "        [0.3160, 0.4613, 0.5455, 0.2886],\n",
              "        [0.3947, 0.7544, 0.0680, 0.7341],\n",
              "        [0.2036, 0.4232, 0.7953, 0.3156],\n",
              "        [0.0120, 0.4988, 0.8981, 0.2349]])"
            ]
          },
          "execution_count": 19,
          "metadata": {},
          "output_type": "execute_result"
        }
      ],
      "source": [
        "x = torch.rand(5, 4)\n",
        "x"
      ]
    },
    {
      "cell_type": "code",
      "execution_count": null,
      "metadata": {
        "id": "jHj59g3GdVnS",
        "outputId": "69c64fcd-f7e6-4659-9520-2c6bb773317a"
      },
      "outputs": [
        {
          "name": "stdout",
          "output_type": "stream",
          "text": [
            "torch.Size([5, 4])\n"
          ]
        }
      ],
      "source": [
        "# 1) x의 shape를 구하세요.\n",
        "print(x.shape)"
      ]
    },
    {
      "cell_type": "code",
      "execution_count": null,
      "metadata": {
        "id": "Xqsl_mo-dVnT",
        "outputId": "30d5724b-9cd8-4a1b-a6ff-de9dad98d6ca"
      },
      "outputs": [
        {
          "name": "stdout",
          "output_type": "stream",
          "text": [
            "tensor([[0.8947],\n",
            "        [0.5455],\n",
            "        [0.0680],\n",
            "        [0.7953],\n",
            "        [0.8981]])\n"
          ]
        }
      ],
      "source": [
        "# 2) x의 행렬에서 3열을 indexing을 사용해서 출력하세요.\n",
        "print(x[:,2:3])"
      ]
    },
    {
      "cell_type": "code",
      "execution_count": null,
      "metadata": {
        "id": "MoxQqq8CdVnT",
        "outputId": "8d9b966e-0ed2-41cf-e1f4-aa686dc2fe04"
      },
      "outputs": [
        {
          "name": "stdout",
          "output_type": "stream",
          "text": [
            "tensor([[0.6855, 0.8807, 0.8947, 0.5136, 0.3160],\n",
            "        [0.4613, 0.5455, 0.2886, 0.3947, 0.7544],\n",
            "        [0.0680, 0.7341, 0.2036, 0.4232, 0.7953],\n",
            "        [0.3156, 0.0120, 0.4988, 0.8981, 0.2349]])\n",
            "tensor([[0.6855, 0.8807, 0.8947, 0.5136, 0.3160, 0.4613, 0.5455, 0.2886, 0.3947,\n",
            "         0.7544, 0.0680, 0.7341, 0.2036, 0.4232, 0.7953, 0.3156, 0.0120, 0.4988,\n",
            "         0.8981, 0.2349]])\n"
          ]
        }
      ],
      "source": [
        "# 3) x를 크기로 바꾸는 함수를 사용하여 (4,5)와 (1,20)크기로 변경한 후 출력하세요.\n",
        "x1 = x.reshape(4,5)\n",
        "x2 = x.reshape(1,20)\n",
        "\n",
        "print(x1)\n",
        "print(x2)"
      ]
    },
    {
      "cell_type": "code",
      "execution_count": null,
      "metadata": {
        "id": "qZW2ihckdVnT"
      },
      "outputs": [],
      "source": [
        "# 4) x를 cuda 장치 객체로 변경하세요.\n",
        "if torch.cuda.is_available():\n",
        "    x = x.to('cuda')\n",
        "    print(f\"Device tensor is stored on: {x.device}\")"
      ]
    },
    {
      "cell_type": "markdown",
      "metadata": {
        "id": "gxmGlbF-dVnT"
      },
      "source": [
        "***\n",
        "> 3. **다음 예측값과 실제값이 주어졌을 때, 교차 엔트로피 손실함수를 구하시오.**\n",
        "\n",
        "예측값: ŷ = [0.57, 0.05, 0.14, 0.10, 0.14]\n",
        "실제값: y = [1, 0, 0, 0, 0]"
      ]
    },
    {
      "cell_type": "markdown",
      "metadata": {
        "id": "q1tXZ24CdVnT"
      },
      "source": [
        "1) 손으로 직접 풀이과정을 제시하세요.\n",
        "\n",
        "![교차 엔트로피](img/CE.png)"
      ]
    },
    {
      "cell_type": "markdown",
      "metadata": {
        "id": "VvOil_yodVnd"
      },
      "source": [
        "2) numpy로 구현하여 계산하세요."
      ]
    },
    {
      "cell_type": "code",
      "execution_count": null,
      "metadata": {
        "id": "-UuE2uFedVnd",
        "outputId": "ced4a552-c7ac-42d9-89cb-a7ea4bd4bbaa"
      },
      "outputs": [
        {
          "name": "stdout",
          "output_type": "stream",
          "text": [
            "numpy cross entropy loss :  0.5621189181535395\n"
          ]
        }
      ],
      "source": [
        "predictions = np.array([0.57, 0.05, 0.14, 0.10, 0.14])\n",
        "true_val = np.array([1, 0, 0, 0, 0])\n",
        "\n",
        "loss = -np.sum(true_val * np.log(predictions + 1e-15))\n",
        "print('numpy cross entropy loss : ', loss)"
      ]
    },
    {
      "cell_type": "markdown",
      "metadata": {
        "id": "sPob9ijrdVnd"
      },
      "source": [
        "3. PyTorch로 구현하여 계산하세요."
      ]
    },
    {
      "cell_type": "code",
      "execution_count": null,
      "metadata": {
        "id": "2Tt6wB9UdVnd",
        "outputId": "b162d680-b1d9-4d38-ebdf-8281c1389188"
      },
      "outputs": [
        {
          "name": "stdout",
          "output_type": "stream",
          "text": [
            "PyTorch cross entropy loss :  0.5621189475059509\n"
          ]
        }
      ],
      "source": [
        "import torch.nn as nn\n",
        "\n",
        "predictions = torch.tensor([0.57, 0.05, 0.14, 0.10, 0.14], dtype=torch.float)\n",
        "true_val = torch.tensor([1, 0, 0, 0, 0], dtype=torch.float)\n",
        "\n",
        "loss = -torch.sum(true_val * torch.log(predictions + 1e-15))\n",
        "\n",
        "print('PyTorch cross entropy loss : ', loss.item())"
      ]
    },
    {
      "cell_type": "markdown",
      "metadata": {
        "id": "cAzkqr_FdVnd"
      },
      "source": [
        "***\n",
        "### 2. [활성함수] 다음 코드를 무엇을 의미하는지 이해하고 실행하여 결과를 확인하세요."
      ]
    },
    {
      "cell_type": "code",
      "execution_count": null,
      "metadata": {
        "id": "IwV-pBnCdVne",
        "outputId": "95593938-2853-4616-9a68-f73ea868b5a9"
      },
      "outputs": [
        {
          "data": {
            "image/png": "[encoded data removed]",
            "text/plain": [
              "<Figure size 1100x400 with 2 Axes>"
            ]
          },
          "metadata": {},
          "output_type": "display_data"
        }
      ],
      "source": [
        "from __future__ import division, print_function, unicode_literals\n",
        "\n",
        "# 관련 라이브러리\n",
        "import os\n",
        "import numpy as np\n",
        "%matplotlib inline\n",
        "import matplotlib\n",
        "import matplotlib.pyplot as plt\n",
        "\n",
        "def logit(z):\n",
        " return 1 / (1 + np.exp(-z))\n",
        "\n",
        "def relu(z):\n",
        " return np.maximum(0, z)\n",
        "\n",
        "def derivative(f, z, eps=0.000001):\n",
        " return (f(z + eps) - f(z - eps))/(2 * eps)\n",
        "\n",
        "z = np.linspace(-5, 5, 200)\n",
        "\n",
        "plt.figure(figsize=(11,4))\n",
        "\n",
        "plt.subplot(121)\n",
        "plt.plot(z, np.sign(z), \"r-\", linewidth=2, label=\"step\")\n",
        "plt.plot(z, logit(z), \"g--\", linewidth=2, label=\"sigmoid\")\n",
        "plt.plot(z, np.tanh(z), \"b-\", linewidth=2, label=\"tanh\")\n",
        "plt.plot(z, relu(z), \"m-.\", linewidth=2, label=\"ReLU\")\n",
        "plt.grid(True)\n",
        "plt.legend(loc=\"center right\", fontsize=14)\n",
        "plt.title(\"activation function: g(z)\", fontsize=14)\n",
        "plt.axis([-5, 5, -1.2, 1.2])\n",
        "\n",
        "plt.subplot(122)\n",
        "plt.plot(z, derivative(np.sign, z), \"r-\", linewidth=2, label=\"step \")\n",
        "plt.plot(0, 0, \"ro\", markersize=5)\n",
        "plt.plot(0, 0, \"rx\", markersize=10)\n",
        "plt.plot(z, derivative(logit, z), \"g--\", linewidth=2, label=\"sigmoid\")\n",
        "plt.plot(z, derivative(np.tanh, z), \"b-\", linewidth=2, label=\"tanh\")\n",
        "plt.plot(z, derivative(relu, z), \"m-.\", linewidth=2, label=\"ReLU\")\n",
        "plt.grid(True)\n",
        "plt.title(\"gradient: g’(z)\", fontsize=14)\n",
        "plt.axis([-5, 5, -0.2, 1.2])\n",
        "\n",
        "plt.show()\n",
        "\n",
        "# 화면 출력 확인 및 각 활성함수의 특징을 비교 서술"
      ]
    },
    {
      "cell_type": "markdown",
      "metadata": {
        "id": "859ORbQudVne"
      },
      "source": [
        "- 위의 코드는 '활성함수'와 '그래디언트' 즉, 활성함수의 도함수를 시각적으로 나타내고 있습니다.\n",
        "- 왼쪽 그래프에서는 4가지 활성함수의 그래프 개형을 보여주고 있습니다.\n",
        "- 오른쪽 그래프는 왼쪽 활성함수의 도함수(그래디언트) 형태를 보여주고 있습니다.\n",
        "- 위의 4가지 종류의 활성함수의 각각의 특징을 비교하여 설명하겠습니다.\n",
        "\n",
        "1. **Step function(계단 함수)**\n",
        "    - 특징\n",
        "        - 출력값은 0 or 1로 이진 형태이다.\n",
        "        - 입력값이 임계값을 넘으면 1을 출력, 그렇지 않으면 0을 출력한다.\n",
        "        - 불연속적이며 미분 불가능한 함수로 머신 러닝에 잘 사용되지는 않는다.  \n",
        "#\n",
        "2. **Sigmoid function(로지스틱 시그모이드 함수)**\n",
        "    - 특징\n",
        "        - 출력값의 범위는 0~1 사이로 제한된다.\n",
        "        - 출력을 확률값으로 해석 가능하며, 미분 가능하기에 역전파 알고리즘에서 사용된다.\n",
        "        - 그래디언트의 최댓값이 0.25에 불과하여 역전파 과정에서 '기울기 소실'(vanishing gradient) 문제가 발생한다. (기울기가 거의 0에 수렴하게 된다는 의미)  \n",
        "#\n",
        "3. **Tanh function(하이퍼볼릭 탄젠트 함수)**\n",
        "    - 특징\n",
        "        - 출력 범위는 sigmoid보다 2배 늘어난 -1~1사이로 제한된다.\n",
        "        - 오른쪽 그래디언트 그래프에서 보듯 sigmoid에 비해 그래디언트의 최댓값이 훨씬 커졌다.\n",
        "        - 그럼에도 입력값이 크거나 작아짐에 따라 기울기가 크게 작아지므로 '기울기 소실'문제를 방지하는데 어려움이 존재한다.  \n",
        "#\n",
        "4. **ReLU function**\n",
        "    - 특징\n",
        "        - 입력값이 양수일 때는 입력값을 그대로 출력하고, 음수일 때는 0을 출력하는 선형 함수이다.\n",
        "        - 위의 특징으로 입력값이 양수이면 입력값에 상관없이 미분 값은 항상 1로 동일하다. 이로 인하여 역전파 과정에서 '기울기 소실'문제를 해결할 수 있다.\n",
        "        - sigmoid, tanh함수처럼 특별한 연산 없이 단순히 임계값에 따라 출력값이 결정되므로 연산 속도가 빠르다."
      ]
    },
    {
      "cell_type": "markdown",
      "metadata": {
        "id": "AiZpBst3dVne"
      },
      "source": [
        "***\n",
        "### 3. [computational graph] 아래와 같은 연산 그래프를 PyTorch를 이용해서 구현하세요."
      ]
    },
    {
      "cell_type": "code",
      "execution_count": null,
      "metadata": {
        "id": "KIARGsE4dVne",
        "outputId": "885d28ff-b12e-4bfc-c172-e91d943d4172"
      },
      "outputs": [
        {
          "name": "stdout",
          "output_type": "stream",
          "text": [
            "----\n",
            "tensor([[-10.],\n",
            "        [ 10.]])\n",
            "tensor([[ 5.1624],\n",
            "        [-0.5886],\n",
            "        [ 7.3828]], grad_fn=<MmBackward0>)\n",
            "tensor([[5.1624],\n",
            "        [0.0000],\n",
            "        [7.3828]], grad_fn=<ReluBackward0>)\n",
            "tensor([[3.1248]], grad_fn=<MmBackward0>)\n",
            "tensor([0.9579], requires_grad=True)\n",
            "====\n",
            "Parameter containing:\n",
            "tensor([[0.1547, 0.6709],\n",
            "        [0.7203, 0.6615],\n",
            "        [0.0108, 0.7491]], requires_grad=True)\n",
            "Parameter containing:\n",
            "tensor([[0.0959, 0.7672, 0.3562]], requires_grad=True)\n",
            "----\n",
            "tensor([[-10.],\n",
            "        [ 10.]])\n",
            "tensor([[ 5.1624],\n",
            "        [-0.5886],\n",
            "        [ 7.3828]], grad_fn=<MmBackward0>)\n",
            "tensor([[5.1624],\n",
            "        [0.0000],\n",
            "        [7.3828]], grad_fn=<ReluBackward0>)\n",
            "tensor([[3.1248]], grad_fn=<MmBackward0>)\n",
            "tensor([0.9579], requires_grad=True)\n",
            "====\n",
            "Parameter containing:\n",
            "tensor([[0.1547, 0.6709],\n",
            "        [0.7203, 0.6615],\n",
            "        [0.0108, 0.7491]], requires_grad=True)\n",
            "Parameter containing:\n",
            "tensor([[0.0959, 0.7672, 0.3562]], requires_grad=True)\n"
          ]
        }
      ],
      "source": [
        "# 파이썬 2, 파이썬 3 지원\n",
        "import torch\n",
        "import torch.nn as nn\n",
        "import torch.optim as optim\n",
        "from torch import FloatTensor\n",
        "from torch.autograd import Variable\n",
        "\n",
        "device = \"cuda\" if torch.cuda.is_available() else \"cpu\"\n",
        "\n",
        "# ============== define variables ==============\n",
        "gt = torch.tensor([1])\n",
        "x1 = Variable(FloatTensor([[-10.], [10.]]))\n",
        "\n",
        "\n",
        "### allocate tensor\n",
        "w1 = torch.rand(3, 2).to(device) # z1의 shape : 3x1 -> w1.T * x1 = (3x2) * (2x1) = (3x1)\n",
        "w2 = torch.rand(1, 3).to(device) # gt의 차원 : 1x1 -> w2.T * a1 = (1x3) * (3x1) = (1x1)\n",
        "### define parameter\n",
        "w1 = nn.Parameter(w1, requires_grad=True)\n",
        "w2 = nn.Parameter(w2, requires_grad=True)\n",
        "\n",
        "x1 = x1.to(device)\n",
        "# ==============================================\n",
        "\n",
        "# ============== define functions ==============\n",
        "ReLU = torch.nn.ReLU()\n",
        "sigmoid = torch.nn.Sigmoid()\n",
        "# ==============================================\n",
        "\n",
        "# ============== define optimizer ==============\n",
        "# Use SGD with learning rate = 0.5\n",
        "optimizer = optim.SGD([w1, w2], lr=0.5) # parameter w1, w2 & lr=0.5설정\n",
        "# ==============================================\n",
        "\n",
        "# ================ define model ================\n",
        "z1 = torch.matmul(w1, x1) # w1을 전치하여 x1과 내적\n",
        "a1 = ReLU(z1) # 활성함수 적용\n",
        "z2 = torch.matmul(w2, a1) # w2를 전치하여 a1과 내적\n",
        "yhat = sigmoid(z2) # 활성함수 적용\n",
        "yhat = torch.tensor([yhat[0, 0]], requires_grad=True) # yhat의 기울기 계산을 위하여\n",
        "# ==============================================\n",
        "\n",
        "# ===== calculate loss and do backward, step =====\n",
        "loss = nn.functional.mse_loss(yhat, gt.float()) # loss function : MSE\n",
        "loss.backward()\n",
        "# ==============================================\n",
        "\n",
        "print(\"----\")\n",
        "print(x1, z1, a1, z2, yhat, sep='\\n')\n",
        "print(\"====\")\n",
        "print(w1, w2, sep='\\n')\n",
        "optimizer.step()\n",
        "print(\"----\")\n",
        "print(x1, z1, a1, z2, yhat, sep='\\n')\n",
        "print(\"====\")\n",
        "print(w1, w2, sep='\\n')"
      ]
    },
    {
      "cell_type": "markdown",
      "metadata": {
        "id": "NRBg8U2CdVnf"
      },
      "source": [
        "***\n",
        "### 4. [퍼셉트론] 다음 코드를 이해 및 완성하고, 실행된 결과를 확인하세요."
      ]
    },
    {
      "cell_type": "code",
      "execution_count": null,
      "metadata": {
        "colab": {
          "base_uri": "https://localhost:8080/",
          "height": 1000
        },
        "id": "32I-1Ve6dVnf",
        "outputId": "4d73bc97-c58f-4e38-8da4-283ddfa52d52"
      },
      "outputs": [
        {
          "name": "stderr",
          "output_type": "stream",
          "text": [
            "<ipython-input-11-d9f1a183df0d>:10: DeprecationWarning: `np.int` is a deprecated alias for the builtin `int`. To silence this warning, use `int` by itself. Doing this will not modify any behavior and is safe. When replacing `np.int`, you may wish to use e.g. `np.int64` or `np.int32` to specify the precision. If you wish to review your current use, check the release note link for additional information.\n",
            "Deprecated in NumPy 1.20; for more details and guidance: https://numpy.org/devdocs/release/1.20.0-notes.html#deprecations\n",
            "  y = y.astype(np.int)\n"
          ]
        },
        {
          "name": "stdout",
          "output_type": "stream",
          "text": [
            "Class label counts: [50 50]\n",
            "X.shape: (100, 2)\n",
            "y.shape: (100,)\n"
          ]
        },
        {
          "data": {
            "image/png": "[encoded data removed]",
            "text/plain": [
              "<Figure size 640x480 with 1 Axes>"
            ]
          },
          "metadata": {},
          "output_type": "display_data"
        },
        {
          "data": {
            "image/png": "[encoded data removed]",
            "text/plain": [
              "<Figure size 640x480 with 1 Axes>"
            ]
          },
          "metadata": {},
          "output_type": "display_data"
        },
        {
          "name": "stdout",
          "output_type": "stream",
          "text": [
            "Model parameters:\n",
            " Weights: tensor([[2.0293],\n",
            "        [0.5933]])\n",
            " Bias: tensor([-1.])\n",
            "Test set accuracy: 100.00%\n"
          ]
        },
        {
          "name": "stderr",
          "output_type": "stream",
          "text": [
            "/usr/local/lib/python3.10/dist-packages/numpy/core/shape_base.py:65: FutureWarning: The input object of type 'Tensor' is an array-like implementing one of the corresponding protocols (`__array__`, `__array_interface__` or `__array_struct__`); but not a sequence (or 0-D). In the future, this object will be coerced as if it was first converted using `np.array(obj)`. To retain the old behaviour, you have to either modify the type 'Tensor', or assign to an empty array created with `np.empty(correct_shape, dtype=object)`.\n",
            "  ary = asanyarray(ary)\n",
            "/usr/local/lib/python3.10/dist-packages/numpy/core/shape_base.py:65: VisibleDeprecationWarning: Creating an ndarray from ragged nested sequences (which is a list-or-tuple of lists-or-tuples-or ndarrays with different lengths or shapes) is deprecated. If you meant to do this, you must specify 'dtype=object' when creating the ndarray.\n",
            "  ary = asanyarray(ary)\n"
          ]
        },
        {
          "data": {
            "image/png": "[encoded data removed]",
            "text/plain": [
              "<Figure size 700x300 with 2 Axes>"
            ]
          },
          "metadata": {},
          "output_type": "display_data"
        }
      ],
      "source": [
        "# Import\n",
        "import numpy as np\n",
        "import matplotlib.pyplot as plt\n",
        "import torch\n",
        "%matplotlib inline\n",
        "\n",
        "# Preparing a toy dataset\n",
        "data = np.genfromtxt('/perceptron_toydata.txt', delimiter='\\t')\n",
        "X, y = data[:, :2], data[:, 2]\n",
        "y = y.astype(np.int)\n",
        "\n",
        "print('Class label counts:', np.bincount(y))\n",
        "print('X.shape:', X.shape)\n",
        "print('y.shape:', y.shape)\n",
        "\n",
        "# Shuffling & train/test split\n",
        "shuffle_idx = np.arange(y.shape[0])\n",
        "shuffle_rng = np.random.RandomState(123)\n",
        "shuffle_rng.shuffle(shuffle_idx)\n",
        "X, y = X[shuffle_idx], y[shuffle_idx]\n",
        "\n",
        "X_train, X_test = X[shuffle_idx[:70]], X[shuffle_idx[70:]]\n",
        "y_train, y_test = y[shuffle_idx[:70]], y[shuffle_idx[70:]]\n",
        "\n",
        "# Normalize (mean zero, unit variance)\n",
        "mu, sigma = X_train.mean(axis=0), X_train.std(axis=0)\n",
        "X_train = (X_train - mu) / sigma\n",
        "X_test = (X_test - mu) / sigma\n",
        "\n",
        "\n",
        "plt.scatter(X_train[y_train==0, 0], X_train[y_train==0, 1], label='class 0', marker='o')\n",
        "plt.scatter(X_train[y_train==1, 0], X_train[y_train==1, 1], label='class 1', marker='s')\n",
        "plt.title('Training set')\n",
        "plt.xlabel('feature 1')\n",
        "plt.ylabel('feature 2')\n",
        "plt.xlim([-3, 3])\n",
        "plt.ylim([-3, 3])\n",
        "plt.legend()\n",
        "plt.show()\n",
        "\n",
        "plt.scatter(X_test[y_test==0, 0], X_test[y_test==0, 1], label='class 0', marker='o')\n",
        "plt.scatter(X_test[y_test==1, 0], X_test[y_test==1, 1], label='class 1', marker='s')\n",
        "plt.title('Test set')\n",
        "plt.xlabel('feature 1')\n",
        "plt.ylabel('feature 2')\n",
        "plt.xlim([-3, 3])\n",
        "plt.ylim([-3, 3])\n",
        "plt.legend()\n",
        "plt.show()\n",
        "\n",
        "\n",
        "# Defining the Perceptron model\n",
        "device = torch.device(\"cuda:0\" if torch.cuda.is_available() else \"cpu\")\n",
        "class Perceptron():\n",
        " def __init__(self, num_features):\n",
        "    self.num_features = num_features\n",
        "    self.weights = torch.zeros(num_features, 1,dtype=torch.float32, device=device)\n",
        "    self.bias = torch.zeros(1, dtype=torch.float32, device=device)\n",
        "\n",
        "    # placeholder vectors so they don't\n",
        "    # need to be recreated each time\n",
        "    self.ones = torch.ones(1)\n",
        "    self.zeros = torch.zeros(1)\n",
        "\n",
        " # 활성함수 - 계단함수로 정의\n",
        " def step_function(self, x) :\n",
        "  return torch.where(x >= 0, torch.tensor(1.), torch.tensor(0.))\n",
        "\n",
        " def forward(self, x):\n",
        "    ### YOUR CODE HERE\n",
        "    predictions = torch.mm(x, self.weights) + self.bias\n",
        "    predictions = self.step_function(predictions) # 활성함수 : step function\n",
        "    return predictions\n",
        "\n",
        " def backward(self, x, y):\n",
        "    predictions = self.forward(x)\n",
        "    errors = y - predictions\n",
        "    return errors\n",
        "\n",
        " def train(self, x, y, epochs):\n",
        "    for e in range(epochs):\n",
        "\n",
        "        for i in range(y.shape[0]):\n",
        "            # use view because backward expects a matrix (i.e., 2D tensor)\n",
        "            errors = self.backward(x[i].reshape(1, self.num_features), y[i]).reshape(-1)\n",
        "            self.weights += (errors * x[i]).reshape(self.num_features, 1)\n",
        "            self.bias += errors\n",
        "\n",
        " def evaluate(self, x, y):\n",
        "    predictions = self.forward(x).reshape(-1)\n",
        "    accuracy = torch.sum(predictions == y).float() / y.shape[0]\n",
        "    return accuracy\n",
        "\n",
        "# Training the Perceptron\n",
        "ppn = Perceptron(num_features=2)\n",
        "\n",
        "X_train_tensor = torch.tensor(X_train, dtype=torch.float32, device=device)\n",
        "y_train_tensor = torch.tensor(y_train, dtype=torch.float32, device=device)\n",
        "\n",
        "ppn.train(X_train_tensor, y_train_tensor, epochs=5)\n",
        "\n",
        "print('Model parameters:')\n",
        "print(' Weights: %s' % ppn.weights)\n",
        "print(' Bias: %s' % ppn.bias)\n",
        "\n",
        "# Evaluating the model\n",
        "X_test_tensor = torch.tensor(X_test, dtype=torch.float32, device=device)\n",
        "y_test_tensor = torch.tensor(y_test, dtype=torch.float32, device=device)\n",
        "\n",
        "test_acc = ppn.evaluate(X_test_tensor, y_test_tensor)\n",
        "print('Test set accuracy: %.2f%%' % (test_acc*100))\n",
        "\n",
        "w, b = ppn.weights, ppn.bias\n",
        "\n",
        "# 2D Decision Boundary\n",
        "x0_min = -2\n",
        "x1_min = ( (-(w[0] * x0_min) - b[0]) / w[1] )\n",
        "x0_max = 2\n",
        "x1_max = ( (-(w[0] * x0_max) - b[0]) / w[1] )\n",
        "\n",
        "fig, ax = plt.subplots(1, 2, sharex=True, figsize=(7, 3))\n",
        "\n",
        "ax[0].plot([x0_min, x0_max], [x1_min, x1_max])\n",
        "ax[1].plot([x0_min, x0_max], [x1_min, x1_max])\n",
        "\n",
        "ax[0].scatter(X_train[y_train==0, 0], X_train[y_train==0, 1], label='class 0', marker='o')\n",
        "ax[0].scatter(X_train[y_train==1, 0], X_train[y_train==1, 1], label='class 1', marker='s')\n",
        "\n",
        "ax[1].scatter(X_test[y_test==0, 0], X_test[y_test==0, 1], label='class 0', marker='o')\n",
        "ax[1].scatter(X_test[y_test==1, 0], X_test[y_test==1, 1], label='class 1', marker='s')\n",
        "\n",
        "ax[1].legend(loc='upper left')\n",
        "plt.show()"
      ]
    },
    {
      "cell_type": "markdown",
      "metadata": {
        "id": "9yryAodJdVng"
      },
      "source": [
        "***\n",
        "### 5. 다음 행렬 A = [[1, 3], [4, 2]]를 보고, 다음의 결과를 구하세요."
      ]
    },
    {
      "cell_type": "code",
      "execution_count": null,
      "metadata": {
        "id": "-A2gqFzPdVng"
      },
      "outputs": [],
      "source": [
        "A = np.array([[1, 3], [4, 2]])"
      ]
    },
    {
      "cell_type": "code",
      "execution_count": null,
      "metadata": {
        "id": "fVJkpDiddVng",
        "outputId": "90decef5-a2fe-4499-948f-4103ae782d1a"
      },
      "outputs": [
        {
          "name": "stdout",
          "output_type": "stream",
          "text": [
            "역행렬:\n",
            "[[-0.2  0.3]\n",
            " [ 0.4 -0.1]]\n"
          ]
        }
      ],
      "source": [
        "# (1) A 행렬의 역행렬을 구한 코드\n",
        "\n",
        "# 역행렬을 계산\n",
        "A_inv = np.linalg.inv(A)\n",
        "\n",
        "print(\"역행렬:\")\n",
        "print(A_inv)\n"
      ]
    },
    {
      "cell_type": "code",
      "execution_count": null,
      "metadata": {
        "id": "Myf5i3PhdVnh",
        "outputId": "69696c3c-6848-4179-a783-681852da6711"
      },
      "outputs": [
        {
          "name": "stdout",
          "output_type": "stream",
          "text": [
            "행렬식: \n",
            "-10.0\n"
          ]
        }
      ],
      "source": [
        "# (2) A 행렬의 행렬식을 구한 코드\n",
        "\n",
        "# 행렬식을 계산\n",
        "detA = np.linalg.det(A)\n",
        "\n",
        "print(\"행렬식: \")\n",
        "print(round(detA, 4))"
      ]
    },
    {
      "cell_type": "code",
      "execution_count": null,
      "metadata": {
        "id": "sKGJhq7UdVnh",
        "outputId": "fca40810-2283-4b25-ff39-e278e89dc283"
      },
      "outputs": [
        {
          "name": "stdout",
          "output_type": "stream",
          "text": [
            "주어진 행렬 A는 정부호 행렬이 아닙니다.\n"
          ]
        }
      ],
      "source": [
        "# (3) A 행렬의 정부호 행렬을 증명한 코드\n",
        "eigenvalues, _ = np.linalg.eig(A)\n",
        "\n",
        "is_positive_definete = all(eigenvalues > 0)\n",
        "\n",
        "if is_positive_definete :\n",
        "    print('주어진 행렬 A는 정부호 행렬입니다.')\n",
        "else :\n",
        "    print('주어진 행렬 A는 정부호 행렬이 아닙니다.')"
      ]
    },
    {
      "cell_type": "code",
      "execution_count": null,
      "metadata": {
        "id": "mXH9M6nIdVnh",
        "outputId": "4b33d3e0-42d9-40ba-c60c-1e36316879fd"
      },
      "outputs": [
        {
          "name": "stdout",
          "output_type": "stream",
          "text": [
            "고유값: \n",
            "[-2.  5.]\n",
            "고유벡터: \n",
            "[[-0.70710678 -0.6       ]\n",
            " [ 0.70710678 -0.8       ]]\n",
            "고유분해: \n",
            "[[1. 3.]\n",
            " [4. 2.]]\n"
          ]
        }
      ],
      "source": [
        "# (4) A 행렬의 고유벡터, 고유값, 고유 분해를 계산한 코드\n",
        "\n",
        "# 고유값, 고유벡터\n",
        "eigenvalues, eigenvectors = np.linalg.eig(A)\n",
        "\n",
        "# 고유값 분해\n",
        "eigen_decomposition = np.dot(np.dot(eigenvectors, np.diag(eigenvalues)), np.linalg.inv(eigenvectors))\n",
        "\n",
        "print('고유값: ')\n",
        "print(eigenvalues)\n",
        "print('고유벡터: ')\n",
        "print(eigenvectors)\n",
        "print('고유분해: ')\n",
        "print(eigen_decomposition)"
      ]
    },
    {
      "cell_type": "markdown",
      "metadata": {},
      "source": [
        "***\n",
        "### 6. $$ f(w1, w2) = w1^2 + w2^2 - 9 $$\n",
        "#### 위 함수를 바탕으로 난수를 생성하여, 초기값 w0 = (1.0, 1.0)을 얻었다고 가정하고, 학습률 0.01인 경사하강법을 이용하여 갱신되는 w1, w2, w3를 순차적으로 구하시오."
      ]
    },
    {
      "cell_type": "code",
      "execution_count": null,
      "metadata": {
        "colab": {
          "base_uri": "https://localhost:8080/"
        },
        "id": "F8XjdKDzd7ny",
        "outputId": "7a487507-3558-48c1-c65f-90fab0c061fe"
      },
      "outputs": [
        {
          "name": "stdout",
          "output_type": "stream",
          "text": [
            "w1 : [0.98 0.98]\n",
            "w2 : [0.9604 0.9604]\n",
            "w3 : [0.941192 0.941192]\n"
          ]
        }
      ],
      "source": [
        "# 13-(4)\n",
        "import numpy as np\n",
        "\n",
        "w = np.array([1.0, 1.0])\n",
        "lr = 0.01\n",
        "\n",
        "for i in range(3) :\n",
        "  grad = np.array([2 * w[0], 2 * w[1]])\n",
        "  w -= lr * grad\n",
        "  print(f'w{i+1} : {w}')"
      ]
    },
    {
      "cell_type": "markdown",
      "metadata": {},
      "source": [
        "***\n",
        "### 7. 다음 논리식을 만족하는 인공신경망을 직접 제시하고, 코드로 구현하시오.\n",
        "![perceptron](img/perceptron.png)"
      ]
    },
    {
      "cell_type": "code",
      "execution_count": null,
      "metadata": {
        "colab": {
          "base_uri": "https://localhost:8080/"
        },
        "id": "nBoJY1yjejqn",
        "outputId": "648ba946-fffd-43a3-97c2-7accd3edd5f8"
      },
      "outputs": [
        {
          "name": "stdout",
          "output_type": "stream",
          "text": [
            "0 | 0 :  0\n",
            "0 | 1 :  0\n",
            "1 | 0 :  1\n",
            "1 | 1 :  0\n"
          ]
        }
      ],
      "source": [
        "# 7-(1) 단일 퍼셉트론 구성 가정\n",
        "def step_function(x) :\n",
        "  if x > 0 :\n",
        "    return 1\n",
        "  else :\n",
        "    return 0\n",
        "\n",
        "def single_layer_perceptron(x1, x2) :\n",
        "  w1, w2 = 1, -1\n",
        "  if step_function(w1*x1 + w2*x2) :\n",
        "    return 1\n",
        "  else :\n",
        "    return 0\n",
        "\n",
        "print(\"0 | 0 : \",single_layer_perceptron(0, 0))\n",
        "print(\"0 | 1 : \",single_layer_perceptron(0, 1))\n",
        "print(\"1 | 0 : \",single_layer_perceptron(1, 0))\n",
        "print(\"1 | 1 : \",single_layer_perceptron(1, 1))\n"
      ]
    },
    {
      "cell_type": "code",
      "execution_count": null,
      "metadata": {
        "colab": {
          "base_uri": "https://localhost:8080/"
        },
        "id": "g-_WHtN4hvYW",
        "outputId": "383e569d-3efc-476f-ed1a-da5f9d6b13b9"
      },
      "outputs": [
        {
          "name": "stdout",
          "output_type": "stream",
          "text": [
            "0 | 0 :  0\n",
            "0 | 1 :  1\n",
            "1 | 0 :  1\n",
            "1 | 1 :  0\n"
          ]
        }
      ],
      "source": [
        "# 7-(2) 다층 퍼셉트론 구성 가정\n",
        "def step_function(x) :\n",
        "  if x > 0 :\n",
        "    return 1\n",
        "  else :\n",
        "    return 0\n",
        "\n",
        "def OR(x1, x2) :\n",
        "  w1, w2 = 0.5, 0.5\n",
        "  b = -0.2\n",
        "  if step_function(w1*x1 + w2*x2 + b) :\n",
        "    return 1\n",
        "  else :\n",
        "    return 0\n",
        "\n",
        "def AND(x1, x2) :\n",
        "  w1, w2 = 0.5, 0.5\n",
        "  b = -0.9\n",
        "  if step_function(w1*x1 + w2*x2 + b) :\n",
        "    return 1\n",
        "  else :\n",
        "    return 0\n",
        "\n",
        "def NAND(x1, x2) :\n",
        "  w1, w2 = -0.5, -0.5\n",
        "  b = 0.9\n",
        "  if step_function(w1*x1 + w2*x2 + b) :\n",
        "    return 1\n",
        "  else :\n",
        "    return 0\n",
        "\n",
        "def multi_layer_perceptron(x1, x2) :\n",
        "  o1 = NAND(x1, x2)\n",
        "  o2 = OR(x1, x2)\n",
        "  y = AND(o1, o2)\n",
        "  return y\n",
        "\n",
        "print(\"0 | 0 : \",multi_layer_perceptron(0, 0))\n",
        "print(\"0 | 1 : \",multi_layer_perceptron(0, 1))\n",
        "print(\"1 | 0 : \",multi_layer_perceptron(1, 0))\n",
        "print(\"1 | 1 : \",multi_layer_perceptron(1, 1))\n"
      ]
    }
  ],
  "metadata": {
    "colab": {
      "provenance": []
    },
    "kernelspec": {
      "display_name": "Machine Learning",
      "language": "python",
      "name": "conda"
    },
    "language_info": {
      "codemirror_mode": {
        "name": "ipython",
        "version": 3
      },
      "file_extension": ".py",
      "mimetype": "text/x-python",
      "name": "python",
      "nbconvert_exporter": "python",
      "pygments_lexer": "ipython3",
      "version": "3.10.5"
    },
    "orig_nbformat": 4
  },
  "nbformat": 4,
  "nbformat_minor": 0
}
